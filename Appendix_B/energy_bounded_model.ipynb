{
  "cells": [
    {
      "cell_type": "markdown",
      "metadata": {
        "id": "fFVKw29fyetx"
      },
      "source": [
        "Consider the following Poisson equation with Dirichlet boundary condition over a bounded domain $\\Omega\\subset\\mathbb{R}^d$\n",
        "\\begin{equation}\n",
        "\\begin{cases}\n",
        "-\\Delta u(x) = f(x), & \\;\\text{in} \\;\\Omega,\\\\\n",
        "u(x) = g(x), & \\; \\text{on} \\; \\partial\\Omega, \n",
        "\\end{cases}\n",
        "\\end{equation}\n",
        "where $f, g$ are given functions. \n",
        "Denote $u(x;\\theta)$   the approximate NN solution with the set of parameters  $\\theta$  in the NN. The collection of all $u(x;\\theta)$ is used as the trial space."
      ]
    },
    {
      "cell_type": "markdown",
      "metadata": {
        "id": "wMbQYqeKnpAi"
      },
      "source": [
        "## 1. Setup"
      ]
    },
    {
      "cell_type": "code",
      "execution_count": 14,
      "metadata": {
        "id": "7UKkf7WW_6Fp"
      },
      "outputs": [],
      "source": [
        "import torch\n",
        "from torch.autograd import Variable\n",
        "import torch.nn as nn\n",
        "import torch.nn.functional as F\n",
        "import torch.optim as optim\n",
        "from torch.optim.lr_scheduler import StepLR, MultiStepLR\n",
        "import numpy as np\n",
        "import matplotlib.pyplot as plt\n",
        "import matplotlib.colors\n",
        "from matplotlib.colors import LogNorm\n",
        "from math import *\n",
        "import time\n",
        "import copy\n",
        "import itertools\n",
        "from tqdm import *\n",
        "import seaborn as sns\n",
        "import matplotlib.pyplot as plt\n",
        "import random\n",
        "import pickle\n",
        "\n",
        "torch.set_default_tensor_type('torch.DoubleTensor')"
      ]
    },
    {
      "cell_type": "markdown",
      "metadata": {
        "id": "V_r9Vowwyjen"
      },
      "source": [
        "## 2. Hyperparameter"
      ]
    },
    {
      "cell_type": "code",
      "execution_count": 15,
      "metadata": {
        "id": "0WUwYN3rz9Ch"
      },
      "outputs": [],
      "source": [
        "# %%\n",
        "dimension_list = list(range(1,4,1))\n",
        "net_width_list = list(range(25, 175, 25))\n"
      ]
    },
    {
      "cell_type": "markdown",
      "metadata": {
        "id": "ak0DF-9_zYoJ"
      },
      "source": [
        "## 3. Neural Architecture"
      ]
    },
    {
      "cell_type": "code",
      "execution_count": 16,
      "metadata": {
        "id": "i4_KsatB0cNQ"
      },
      "outputs": [],
      "source": [
        "# %%\n",
        "# activation function\n",
        "def activation(x):\n",
        "    return x * torch.sigmoid(x)\n",
        "\n",
        "# %%\n",
        "# build ResNet with one blocks\n",
        "class Net(torch.nn.Module):\n",
        "    def __init__(self,input_width,layer_width):\n",
        "        super(Net,self).__init__()\n",
        "        self.layer1 = torch.nn.Linear(input_width, layer_width)\n",
        "        self.layer2 = torch.nn.Linear(layer_width, layer_width)\n",
        "        self.layer3 = torch.nn.Linear(layer_width, layer_width)\n",
        "        self.layer4 = torch.nn.Linear(layer_width, 1)\n",
        "        self.initialize_weights()\n",
        "    def forward(self,x):\n",
        "        y = activation(self.layer1(x))\n",
        "        y = activation(self.layer3(activation(self.layer2(y)))) # residual block 1\n",
        "        output = self.layer4(y)\n",
        "        return output\n",
        "    def initialize_weights(self):\n",
        "        for m in self.modules():\n",
        "            if isinstance(m, nn.Linear):\n",
        "                nn.init.xavier_normal_(m.weight.data)\n",
        "                if m.bias is not None:\n",
        "                    m.bias.data.zero_()\n",
        "    def print_network(self):\n",
        "        num_params = 0\n",
        "        for param in self.parameters():\n",
        "            num_params += param.numel()\n",
        "        # print(self)\n",
        "        print('Total number of parameters: %d' % num_params)\n",
        "\n",
        "# %%\n",
        "#net = Net(input_width,layer_width)\n"
      ]
    },
    {
      "cell_type": "markdown",
      "metadata": {
        "id": "daqv_qcwJi-L"
      },
      "source": [
        "The experiment define the neural network $\\mathcal{N}: \\mathbb{R}^d \\rightarrow \\mathbb{R}$ as follows:\n",
        "\\begin{equation}\n",
        "\\mathcal{N}(\\vec{x}) := \\sigma(A_4\\cdot\\sigma(A_3\\cdot\\sigma (A_2\\cdot\\sigma (A_1))))\n",
        "\\end{equation}\n",
        "where ${\\rm A}_{1}, {\\rm A}_2, {\\rm A}_{3},$ and ${\\rm A}_{4}$ are fully-connected layers with the activation function $\\sigma$. The number of parameters in $\\mathcal{N}$ is given by $p = (d \\cdot {\\rm width} + {\\rm width}) + 2({\\rm width} \\cdot {\\rm width} + {\\rm width}) + ({\\rm width} \\cdot 1 + 1) = 2 \\cdot {\\rm width}^2 + (4 + d) \\cdot {\\rm width} + 1$.\n",
        "\n",
        "note: there are $p$ parameters need to be trained in total in ${\\rm N}(x)$"
      ]
    },
    {
      "cell_type": "markdown",
      "metadata": {
        "id": "YFKejxWuzj3x"
      },
      "source": [
        "## 4. Training Setup"
      ]
    },
    {
      "cell_type": "markdown",
      "metadata": {
        "id": "790zHpXlFL0z"
      },
      "source": [
        "### 4.1 Initialize the weights using Xavier normal initialization"
      ]
    },
    {
      "cell_type": "code",
      "execution_count": 17,
      "metadata": {
        "id": "ZAHOn6KJ0cyl"
      },
      "outputs": [],
      "source": [
        "# %%\n",
        "# Xavier normal initialization for weights:\n",
        "#             mean = 0 std = gain * sqrt(2 / fan_in + fan_out)\n",
        "# zero initialization for biases\n",
        "def initialize_weights(self):\n",
        "    for m in self.modules():\n",
        "        if isinstance(m,nn.Linear):\n",
        "            nn.init.xavier_normal_(m.weight.data)\n",
        "            if m.bias is not None:\n",
        "                m.bias.data.zero_()\n",
        "\n",
        "# %%\n",
        "#initialize_weights(net)"
      ]
    },
    {
      "cell_type": "markdown",
      "metadata": {
        "id": "MhLxoQY0FeTI"
      },
      "source": [
        "### 4.2 Define the exact solution\n",
        "\n",
        "$$[0,1]^d{\\ni}{\\vec x} {↦} u(x) = {∏}_{i=1}^d{\\sin}(π{\\vec x}_i) {∈} {\\mathbb R}$$"
      ]
    },
    {
      "cell_type": "code",
      "execution_count": 18,
      "metadata": {
        "id": "_xF9fri1FsPB"
      },
      "outputs": [],
      "source": [
        "# %%\n",
        "# defination of exact solution\n",
        "def u_ex(x, dimension):\n",
        "    temp = 1.0\n",
        "    for i in range(dimension):\n",
        "        temp = temp * torch.sin(pi*x[:, i])\n",
        "    u_temp = 1.0 * temp\n",
        "    return u_temp.reshape([x.size()[0], 1])"
      ]
    },
    {
      "cell_type": "markdown",
      "metadata": {
        "id": "P6MVRM2WFwCp"
      },
      "source": [
        "### 4.3 Define the $f(x)$\n",
        "$$[0,1]^d{\\ni }{\\vec x} {↦} f({\\vec x}) = dπ^2{∏}_{i=1}^d\\sin(πx_i){∈}{\\mathbb R}$$"
      ]
    },
    {
      "cell_type": "code",
      "execution_count": 19,
      "metadata": {
        "id": "BZ0BrfqAF0gR"
      },
      "outputs": [],
      "source": [
        "# %%\n",
        "# defination of f(x)\n",
        "def f(x, dimension):\n",
        "    temp = 1.0\n",
        "    for i in range(dimension):\n",
        "        temp = temp * torch.sin(pi*x[:, i])\n",
        "    u_temp = 1.0 * temp\n",
        "    f_temp = dimension * pi**2 * u_temp\n",
        "    return f_temp.reshape([x.size()[0], 1])\n"
      ]
    },
    {
      "cell_type": "markdown",
      "metadata": {
        "id": "lE8siDXIF5tS"
      },
      "source": [
        "### 4.4 Generate sample"
      ]
    },
    {
      "cell_type": "code",
      "execution_count": 20,
      "metadata": {
        "id": "vOU4RuMSGGui"
      },
      "outputs": [],
      "source": [
        "# %%\n",
        "# generate points by random\n",
        "def generate_sample(data_size, dimension):\n",
        "    sample_temp = torch.rand(data_size, dimension)\n",
        "    return sample_temp"
      ]
    },
    {
      "cell_type": "markdown",
      "metadata": {
        "id": "b-AvuZCZGIsL"
      },
      "source": [
        "### 4.5 Build the model\n",
        "\n",
        "\\begin{equation}\n",
        "model = u(x;\\theta) =   \\prod_{i = 1}^{d} (1-x_i) x_i \\cdot NN(x;\\theta).\n",
        "\\end{equation}\n",
        "where $NN(x;\\theta)$ is a function represented by a neural network. \n"
      ]
    },
    {
      "cell_type": "code",
      "execution_count": 21,
      "metadata": {
        "id": "AugSXw9oBhT8"
      },
      "outputs": [],
      "source": [
        "# %%\n",
        "def model(x):\n",
        "    x_temp = x\n",
        "    D_x_0 = torch.prod(x_temp, axis = 1).reshape([x.size()[0], 1])\n",
        "    D_x_1 = torch.prod(1.0 - x_temp, axis = 1).reshape([x.size()[0], 1])\n",
        "    model_u_temp = D_x_0 * D_x_1 * net(x)\n",
        "    return model_u_temp.reshape([x.size()[0], 1])\n"
      ]
    },
    {
      "cell_type": "markdown",
      "metadata": {
        "id": "o9q3xKrLJgtR"
      },
      "source": [
        "### 4.6 Define Loss function（energy）\n",
        " \\begin{equation}\n",
        "\\mathcal{L}_{energy}(\\hat{u}) = \\frac{1}{N} \\sum_{i=1}^{N} \\left[ \\frac{1}{2} \\left\\vert \\nabla \\hat{u}(\\vec x_i; \\theta) \\right\\vert^2 - f(x_i) \\hat{u}(\\vec x_i; \\theta) \\right], \\quad {\\vec x} \\in [0,1]^d\n",
        "\\end{equation}\n",
        "where $N$ is the total number of mesh points used in the training dataset and the index $i$ is used to iterate over the mesh points\n",
        "note: for `loss_energy = torch.sum(0.5 * grad_u_sq  - f(x) * u_hat)  / len(x)`, it divides the length of x because the length of $Ω$ is 1"
      ]
    },
    {
      "cell_type": "code",
      "execution_count": 22,
      "metadata": {
        "id": "SYLfodfxJsoo"
      },
      "outputs": [],
      "source": [
        "#%%\n",
        "# loss function to DRM by auto differential\n",
        "def loss_function_energy(x, dimension):\n",
        "    u_hat = model(x)\n",
        "    grad_u_hat = torch.autograd.grad(outputs=u_hat, inputs=x, grad_outputs=torch.ones(u_hat.shape), create_graph=True)\n",
        "    grad_u_sq = ((grad_u_hat[0] ** 2).sum(1)).reshape([len(grad_u_hat[0]), 1])\n",
        "    loss_energy = torch.sum(0.5 * grad_u_sq - f(x, dimension) * u_hat) / len(x)\n",
        "    return loss_energy"
      ]
    },
    {
      "cell_type": "markdown",
      "metadata": {
        "id": "oJ4xCkB7-W2j"
      },
      "source": [
        "### 4.7 Define Fractional Error\n",
        "\n",
        "$${\\rm error} = \\frac{\\lVert \\hat u - u \\lVert _2^2}{\\lVert u \\lVert _2^2}$$"
      ]
    },
    {
      "cell_type": "code",
      "execution_count": 23,
      "metadata": {
        "id": "GK3_cCQBNIW9"
      },
      "outputs": [],
      "source": [
        "def fractional_error(x):\n",
        "  u_hat = model(x)\n",
        "  u = u_ex(x, input_width)\n",
        "  upper = torch.square((u_hat - u).norm(2))\n",
        "  lower = torch.square(u.norm(2))\n",
        "  return torch.divide(upper, lower)"
      ]
    },
    {
      "cell_type": "markdown",
      "metadata": {
        "id": "bFjoBxc9zo50"
      },
      "source": [
        "## 5. Doing The Training"
      ]
    },
    {
      "cell_type": "code",
      "execution_count": 24,
      "metadata": {
        "id": "IhJNyxPJApgy"
      },
      "outputs": [],
      "source": [
        "random.seed(100)\n",
        "test_sample_size = 10000\n",
        "batch_size = 2000\n",
        "epoch = 1000"
      ]
    },
    {
      "cell_type": "code",
      "execution_count": 25,
      "metadata": {
        "colab": {
          "base_uri": "https://localhost:8080/"
        },
        "id": "XlFVfWtA3ObI",
        "outputId": "64d41168-b356-49e9-ee16-a5d7fa66fa90"
      },
      "outputs": [
        {
          "name": "stdout",
          "output_type": "stream",
          "text": [
            "The current width:25\n",
            "The current dimensions:1\n",
            "The current width:50\n",
            "The current dimensions:1\n",
            "The current width:75\n",
            "The current dimensions:1\n",
            "The current width:100\n",
            "The current dimensions:1\n",
            "The current width:125\n",
            "The current dimensions:1\n",
            "The current width:150\n",
            "The current dimensions:1\n",
            "The current width:25\n",
            "The current dimensions:2\n",
            "The current width:50\n",
            "The current dimensions:2\n",
            "The current width:75\n",
            "The current dimensions:2\n",
            "The current width:100\n",
            "The current dimensions:2\n",
            "The current width:125\n",
            "The current dimensions:2\n",
            "The current width:150\n",
            "The current dimensions:2\n",
            "The current width:25\n",
            "The current dimensions:3\n",
            "The current width:50\n",
            "The current dimensions:3\n",
            "The current width:75\n",
            "The current dimensions:3\n",
            "The current width:100\n",
            "The current dimensions:3\n",
            "The current width:125\n",
            "The current dimensions:3\n",
            "The current width:150\n",
            "The current dimensions:3\n"
          ]
        }
      ],
      "source": [
        "energy_loss_mat_e = np.zeros((len(net_width_list), len(dimension_list)))\n",
        "energy_fractional_error = np.zeros((len(net_width_list), len(dimension_list)))\n",
        "all_data = []\n",
        "epoch_data = []\n",
        "loss_record_e = []\n",
        "error_record_e = []\n",
        "loss_epoch_e = []\n",
        "error_epoch_e = []\n",
        "\n",
        "for dim_item in range(len(dimension_list)):\n",
        "    input_width = dimension_list[dim_item]\n",
        "    test_sample = generate_sample(test_sample_size, input_width)\n",
        "    for width_item in range(len(net_width_list)):\n",
        "        print(\"The current width:\"+ str(net_width_list[width_item]))\n",
        "        print(\"The current dimensions:\"+ str(dimension_list[dim_item]))\n",
        "        layer_width = net_width_list[width_item]\n",
        "        net = Net(input_width, layer_width)\n",
        "        initialize_weights(net)\n",
        "        optimizer = optim.Adam(net.parameters(), lr=0.0001)\n",
        "        data_size = batch_size\n",
        "        loss_epoch = []\n",
        "        error_epoch = []\n",
        "        for i in range(epoch):\n",
        "            optimizer.zero_grad()\n",
        "            x = generate_sample(data_size, input_width)\n",
        "            x.requires_grad = True\n",
        "            loss = loss_function_energy(x, input_width)\n",
        "            loss.backward()\n",
        "            optimizer.step()\n",
        "            torch.cuda.empty_cache()\n",
        "\n",
        "            test_sample_fractional_error = fractional_error(test_sample)\n",
        "            loss_epoch.append(float(loss))\n",
        "            error_epoch.append(float(test_sample_fractional_error))\n",
        "\n",
        "        test_sample_fractional_error = fractional_error(test_sample)\n",
        "        energy_fractional_error[width_item, dim_item] = float(test_sample_fractional_error)\n",
        "        energy_loss_mat_e[width_item, dim_item] = float(loss)\n",
        "        loss_record_e.append(float(loss))\n",
        "        error_record_e.append(float(test_sample_fractional_error))\n",
        "        loss_epoch_e.append(loss_epoch)\n",
        "        error_epoch_e.append(error_epoch)\n",
        "\n",
        "all_data.append(loss_record_e)\n",
        "all_data.append(error_record_e)\n",
        "all_data.append(net_width_list)\n",
        "epoch_data.append(loss_epoch_e)\n",
        "epoch_data.append(error_epoch_e)\n",
        "\n",
        "with open('loss_record_all.pkl', 'wb') as f:\n",
        "     pickle.dump(all_data, f)\n",
        "\n",
        "with open('epoch_record.pkl', 'wb') as f:\n",
        "     pickle.dump(epoch_data, f)"
      ]
    },
    {
      "cell_type": "code",
      "execution_count": 26,
      "metadata": {
        "id": "0vp9oXCo7iaf"
      },
      "outputs": [],
      "source": [
        "# plot the performance of first 100 training epoch\n",
        "# loss_first_100_epochs = loss_epoch[0:100]\n",
        "# error_first_100_epochs = error_epoch[0:100]"
      ]
    },
    {
      "cell_type": "code",
      "execution_count": 27,
      "metadata": {
        "id": "xvFOUjZn7vU9"
      },
      "outputs": [],
      "source": [
        "# x_values = range(0, 100)"
      ]
    },
    {
      "cell_type": "code",
      "execution_count": 28,
      "metadata": {
        "colab": {
          "base_uri": "https://localhost:8080/",
          "height": 637
        },
        "id": "-XlHmadVMZN3",
        "outputId": "dc4e9989-af9e-4d27-d6e8-a06fee389fd0"
      },
      "outputs": [
        {
          "ename": "ValueError",
          "evalue": "ignored",
          "output_type": "error",
          "traceback": [
            "\u001b[0;31m---------------------------------------------------------------------------\u001b[0m",
            "\u001b[0;31mValueError\u001b[0m                                Traceback (most recent call last)",
            "\u001b[0;32m<ipython-input-28-bbe8eb50df8d>\u001b[0m in \u001b[0;36m<module>\u001b[0;34m\u001b[0m\n\u001b[0;32m----> 1\u001b[0;31m \u001b[0mplt\u001b[0m\u001b[0;34m.\u001b[0m\u001b[0mplot\u001b[0m\u001b[0;34m(\u001b[0m\u001b[0mx_values\u001b[0m\u001b[0;34m,\u001b[0m \u001b[0mloss_first_100_epochs\u001b[0m\u001b[0;34m)\u001b[0m\u001b[0;34m\u001b[0m\u001b[0;34m\u001b[0m\u001b[0m\n\u001b[0m\u001b[1;32m      2\u001b[0m \u001b[0mplt\u001b[0m\u001b[0;34m.\u001b[0m\u001b[0mxlabel\u001b[0m\u001b[0;34m(\u001b[0m\u001b[0;34m'Epoch'\u001b[0m\u001b[0;34m)\u001b[0m\u001b[0;34m\u001b[0m\u001b[0;34m\u001b[0m\u001b[0m\n\u001b[1;32m      3\u001b[0m \u001b[0mplt\u001b[0m\u001b[0;34m.\u001b[0m\u001b[0mylabel\u001b[0m\u001b[0;34m(\u001b[0m\u001b[0;34m'Empirical loss'\u001b[0m\u001b[0;34m)\u001b[0m\u001b[0;34m\u001b[0m\u001b[0;34m\u001b[0m\u001b[0m\n\u001b[1;32m      4\u001b[0m \u001b[0mplt\u001b[0m\u001b[0;34m.\u001b[0m\u001b[0myscale\u001b[0m\u001b[0;34m(\u001b[0m\u001b[0;34m'log'\u001b[0m\u001b[0;34m)\u001b[0m\u001b[0;34m\u001b[0m\u001b[0;34m\u001b[0m\u001b[0m\n\u001b[1;32m      5\u001b[0m \u001b[0mplt\u001b[0m\u001b[0;34m.\u001b[0m\u001b[0mtitle\u001b[0m\u001b[0;34m(\u001b[0m\u001b[0;34m'Change in empirical loss in first 100 epochs'\u001b[0m\u001b[0;34m)\u001b[0m\u001b[0;34m\u001b[0m\u001b[0;34m\u001b[0m\u001b[0m\n",
            "\u001b[0;32m/usr/local/lib/python3.9/dist-packages/matplotlib/pyplot.py\u001b[0m in \u001b[0;36mplot\u001b[0;34m(scalex, scaley, data, *args, **kwargs)\u001b[0m\n\u001b[1;32m   2810\u001b[0m \u001b[0;34m@\u001b[0m\u001b[0m_copy_docstring_and_deprecators\u001b[0m\u001b[0;34m(\u001b[0m\u001b[0mAxes\u001b[0m\u001b[0;34m.\u001b[0m\u001b[0mplot\u001b[0m\u001b[0;34m)\u001b[0m\u001b[0;34m\u001b[0m\u001b[0;34m\u001b[0m\u001b[0m\n\u001b[1;32m   2811\u001b[0m \u001b[0;32mdef\u001b[0m \u001b[0mplot\u001b[0m\u001b[0;34m(\u001b[0m\u001b[0;34m*\u001b[0m\u001b[0margs\u001b[0m\u001b[0;34m,\u001b[0m \u001b[0mscalex\u001b[0m\u001b[0;34m=\u001b[0m\u001b[0;32mTrue\u001b[0m\u001b[0;34m,\u001b[0m \u001b[0mscaley\u001b[0m\u001b[0;34m=\u001b[0m\u001b[0;32mTrue\u001b[0m\u001b[0;34m,\u001b[0m \u001b[0mdata\u001b[0m\u001b[0;34m=\u001b[0m\u001b[0;32mNone\u001b[0m\u001b[0;34m,\u001b[0m \u001b[0;34m**\u001b[0m\u001b[0mkwargs\u001b[0m\u001b[0;34m)\u001b[0m\u001b[0;34m:\u001b[0m\u001b[0;34m\u001b[0m\u001b[0;34m\u001b[0m\u001b[0m\n\u001b[0;32m-> 2812\u001b[0;31m     return gca().plot(\n\u001b[0m\u001b[1;32m   2813\u001b[0m         \u001b[0;34m*\u001b[0m\u001b[0margs\u001b[0m\u001b[0;34m,\u001b[0m \u001b[0mscalex\u001b[0m\u001b[0;34m=\u001b[0m\u001b[0mscalex\u001b[0m\u001b[0;34m,\u001b[0m \u001b[0mscaley\u001b[0m\u001b[0;34m=\u001b[0m\u001b[0mscaley\u001b[0m\u001b[0;34m,\u001b[0m\u001b[0;34m\u001b[0m\u001b[0;34m\u001b[0m\u001b[0m\n\u001b[1;32m   2814\u001b[0m         **({\"data\": data} if data is not None else {}), **kwargs)\n",
            "\u001b[0;32m/usr/local/lib/python3.9/dist-packages/matplotlib/axes/_axes.py\u001b[0m in \u001b[0;36mplot\u001b[0;34m(self, scalex, scaley, data, *args, **kwargs)\u001b[0m\n\u001b[1;32m   1686\u001b[0m         \"\"\"\n\u001b[1;32m   1687\u001b[0m         \u001b[0mkwargs\u001b[0m \u001b[0;34m=\u001b[0m \u001b[0mcbook\u001b[0m\u001b[0;34m.\u001b[0m\u001b[0mnormalize_kwargs\u001b[0m\u001b[0;34m(\u001b[0m\u001b[0mkwargs\u001b[0m\u001b[0;34m,\u001b[0m \u001b[0mmlines\u001b[0m\u001b[0;34m.\u001b[0m\u001b[0mLine2D\u001b[0m\u001b[0;34m)\u001b[0m\u001b[0;34m\u001b[0m\u001b[0;34m\u001b[0m\u001b[0m\n\u001b[0;32m-> 1688\u001b[0;31m         \u001b[0mlines\u001b[0m \u001b[0;34m=\u001b[0m \u001b[0;34m[\u001b[0m\u001b[0;34m*\u001b[0m\u001b[0mself\u001b[0m\u001b[0;34m.\u001b[0m\u001b[0m_get_lines\u001b[0m\u001b[0;34m(\u001b[0m\u001b[0;34m*\u001b[0m\u001b[0margs\u001b[0m\u001b[0;34m,\u001b[0m \u001b[0mdata\u001b[0m\u001b[0;34m=\u001b[0m\u001b[0mdata\u001b[0m\u001b[0;34m,\u001b[0m \u001b[0;34m**\u001b[0m\u001b[0mkwargs\u001b[0m\u001b[0;34m)\u001b[0m\u001b[0;34m]\u001b[0m\u001b[0;34m\u001b[0m\u001b[0;34m\u001b[0m\u001b[0m\n\u001b[0m\u001b[1;32m   1689\u001b[0m         \u001b[0;32mfor\u001b[0m \u001b[0mline\u001b[0m \u001b[0;32min\u001b[0m \u001b[0mlines\u001b[0m\u001b[0;34m:\u001b[0m\u001b[0;34m\u001b[0m\u001b[0;34m\u001b[0m\u001b[0m\n\u001b[1;32m   1690\u001b[0m             \u001b[0mself\u001b[0m\u001b[0;34m.\u001b[0m\u001b[0madd_line\u001b[0m\u001b[0;34m(\u001b[0m\u001b[0mline\u001b[0m\u001b[0;34m)\u001b[0m\u001b[0;34m\u001b[0m\u001b[0;34m\u001b[0m\u001b[0m\n",
            "\u001b[0;32m/usr/local/lib/python3.9/dist-packages/matplotlib/axes/_base.py\u001b[0m in \u001b[0;36m__call__\u001b[0;34m(self, data, *args, **kwargs)\u001b[0m\n\u001b[1;32m    309\u001b[0m                 \u001b[0mthis\u001b[0m \u001b[0;34m+=\u001b[0m \u001b[0margs\u001b[0m\u001b[0;34m[\u001b[0m\u001b[0;36m0\u001b[0m\u001b[0;34m]\u001b[0m\u001b[0;34m,\u001b[0m\u001b[0;34m\u001b[0m\u001b[0;34m\u001b[0m\u001b[0m\n\u001b[1;32m    310\u001b[0m                 \u001b[0margs\u001b[0m \u001b[0;34m=\u001b[0m \u001b[0margs\u001b[0m\u001b[0;34m[\u001b[0m\u001b[0;36m1\u001b[0m\u001b[0;34m:\u001b[0m\u001b[0;34m]\u001b[0m\u001b[0;34m\u001b[0m\u001b[0;34m\u001b[0m\u001b[0m\n\u001b[0;32m--> 311\u001b[0;31m             yield from self._plot_args(\n\u001b[0m\u001b[1;32m    312\u001b[0m                 this, kwargs, ambiguous_fmt_datakey=ambiguous_fmt_datakey)\n\u001b[1;32m    313\u001b[0m \u001b[0;34m\u001b[0m\u001b[0m\n",
            "\u001b[0;32m/usr/local/lib/python3.9/dist-packages/matplotlib/axes/_base.py\u001b[0m in \u001b[0;36m_plot_args\u001b[0;34m(self, tup, kwargs, return_kwargs, ambiguous_fmt_datakey)\u001b[0m\n\u001b[1;32m    502\u001b[0m \u001b[0;34m\u001b[0m\u001b[0m\n\u001b[1;32m    503\u001b[0m         \u001b[0;32mif\u001b[0m \u001b[0mx\u001b[0m\u001b[0;34m.\u001b[0m\u001b[0mshape\u001b[0m\u001b[0;34m[\u001b[0m\u001b[0;36m0\u001b[0m\u001b[0;34m]\u001b[0m \u001b[0;34m!=\u001b[0m \u001b[0my\u001b[0m\u001b[0;34m.\u001b[0m\u001b[0mshape\u001b[0m\u001b[0;34m[\u001b[0m\u001b[0;36m0\u001b[0m\u001b[0;34m]\u001b[0m\u001b[0;34m:\u001b[0m\u001b[0;34m\u001b[0m\u001b[0;34m\u001b[0m\u001b[0m\n\u001b[0;32m--> 504\u001b[0;31m             raise ValueError(f\"x and y must have same first dimension, but \"\n\u001b[0m\u001b[1;32m    505\u001b[0m                              f\"have shapes {x.shape} and {y.shape}\")\n\u001b[1;32m    506\u001b[0m         \u001b[0;32mif\u001b[0m \u001b[0mx\u001b[0m\u001b[0;34m.\u001b[0m\u001b[0mndim\u001b[0m \u001b[0;34m>\u001b[0m \u001b[0;36m2\u001b[0m \u001b[0;32mor\u001b[0m \u001b[0my\u001b[0m\u001b[0;34m.\u001b[0m\u001b[0mndim\u001b[0m \u001b[0;34m>\u001b[0m \u001b[0;36m2\u001b[0m\u001b[0;34m:\u001b[0m\u001b[0;34m\u001b[0m\u001b[0;34m\u001b[0m\u001b[0m\n",
            "\u001b[0;31mValueError\u001b[0m: x and y must have same first dimension, but have shapes (100,) and (10,)"
          ]
        },
        {
          "data": {
            "image/png": "[encoded data removed]",
            "text/plain": [
              "<Figure size 432x288 with 1 Axes>"
            ]
          },
          "metadata": {
            "needs_background": "light"
          },
          "output_type": "display_data"
        }
      ],
      "source": [
        "# plt.plot(x_values, loss_first_100_epochs)\n",
        "# plt.xlabel('Epoch')\n",
        "# plt.ylabel('Empirical loss')\n",
        "# plt.yscale('log')\n",
        "# plt.title('Change in empirical loss in first 100 epochs')\n",
        "# plt.show()\n",
        "# plt.plot(x_values, error_first_100_epochs)\n",
        "# plt.xlabel('Epoch')\n",
        "# plt.ylabel('Fractional error')\n",
        "# plt.yscale('log')\n",
        "# plt.title('Change in fractional error in first 100 epochs')\n",
        "# plt.show()"
      ]
    },
    {
      "cell_type": "code",
      "execution_count": 29,
      "metadata": {
        "id": "lHYyqO8FR6zs"
      },
      "outputs": [],
      "source": [
        "with open('loss_record_all.pkl', 'rb') as f:\n",
        "    b = pickle.load(f)"
      ]
    },
    {
      "cell_type": "code",
      "execution_count": 30,
      "metadata": {
        "colab": {
          "base_uri": "https://localhost:8080/"
        },
        "id": "-BG_Qwh5tjZa",
        "outputId": "73d64210-ff87-4344-91f3-315e5b119b15"
      },
      "outputs": [
        {
          "name": "stdout",
          "output_type": "stream",
          "text": [
            "[[-0.006063151425644462, 0.008836361730477537, -0.011146301812169569, -0.03368656954822963, -0.03151519393625441, -0.04274533082470214, -0.0035204755489313165, -0.003265692680515676, -0.002205967216693339, -0.011292049817027226, -0.013287552904450958, -0.01714396317320571, -0.003353737134076002, 0.0006702179858477757, -0.000987359930486177, -0.002179134402763558, -0.0019059653600647446, -0.004022219795715623], [0.9971423196911171, 1.0028324674093905, 0.9940449877366333, 0.984879903688949, 0.9857267151959517, 0.9812180384969946, 0.9984265710063936, 0.9984355147804659, 0.9986933401443411, 0.9948707319474758, 0.9939629820264184, 0.992177974096978, 0.9982333018621894, 1.0003389900998725, 0.9993501494432333, 0.9986111448761367, 0.9987464942606364, 0.9977281735503742], [25, 50, 75, 100, 125, 150]]\n"
          ]
        }
      ],
      "source": [
        "print(b)"
      ]
    },
    {
      "cell_type": "markdown",
      "metadata": {
        "id": "fUwVQpGwzvka"
      },
      "source": [
        "## 6. Plotting The Output"
      ]
    },
    {
      "cell_type": "code",
      "execution_count": 31,
      "metadata": {
        "colab": {
          "base_uri": "https://localhost:8080/",
          "height": 1000
        },
        "id": "U2_e7r8CYk8z",
        "outputId": "b2a805dc-78be-4940-f857-935a3e3f27a0"
      },
      "outputs": [
        {
          "data": {
            "image/png": "[encoded data removed]",
            "text/plain": [
              "<Figure size 576x432 with 2 Axes>"
            ]
          },
          "metadata": {
            "needs_background": "light"
          },
          "output_type": "display_data"
        },
        {
          "data": {
            "image/png": "[encoded data removed]",
            "text/plain": [
              "<Figure size 576x432 with 2 Axes>"
            ]
          },
          "metadata": {
            "needs_background": "light"
          },
          "output_type": "display_data"
        },
        {
          "name": "stderr",
          "output_type": "stream",
          "text": [
            "<ipython-input-31-aca75ade6cf8>:29: UserWarning: Data has no positive values, and therefore cannot be log-scaled.\n",
            "  plt.yscale('log')\n"
          ]
        },
        {
          "data": {
            "image/png": "[encoded data removed]",
            "text/plain": [
              "<Figure size 432x288 with 1 Axes>"
            ]
          },
          "metadata": {
            "needs_background": "light"
          },
          "output_type": "display_data"
        },
        {
          "data": {
            "image/png": "[encoded data removed]",
            "text/plain": [
              "<Figure size 432x288 with 1 Axes>"
            ]
          },
          "metadata": {
            "needs_background": "light"
          },
          "output_type": "display_data"
        }
      ],
      "source": [
        "x_axis = dimension_list\n",
        "y_axis = net_width_list\n",
        "fig, axee = plt.subplots(figsize=(8, 6))\n",
        "axee = sns.heatmap(energy_loss_mat_e, xticklabels=x_axis,yticklabels=y_axis, ax=axee, cmap='coolwarm', norm=LogNorm())\n",
        "axee.invert_yaxis()\n",
        "axee.set_xlabel(\"PDE dimension\")\n",
        "axee.set_ylabel(\"Net Width\")\n",
        "axee.set_title(\"Empirical Loss (Energy)\")\n",
        "cbar = axee.collections[0].colorbar\n",
        "cbar.set_label('Empirical Loss (log-scale)')\n",
        "plt.show()\n",
        "\n",
        "fig, axef = plt.subplots(figsize=(8, 6))\n",
        "axef = sns.heatmap(energy_fractional_error, xticklabels=dimension_list, yticklabels=net_width_list, ax=axef, cmap='coolwarm', norm=LogNorm())\n",
        "plt.gca().invert_yaxis()\n",
        "axef.set_xlabel(\"PDE dimension\")\n",
        "axef.set_ylabel(\"Net Width\")\n",
        "axef.set_title(\"Fractional Error (Energy)\")\n",
        "cbar = axef.collections[0].colorbar\n",
        "cbar.set_label('Fractional Error (log-scale)')\n",
        "plt.show()\n",
        "\n",
        "\n",
        "label = f'dimension:{input_width},\\n width:{layer_width},\\n training data:{batch_size}'\n",
        "plt.plot(range(epoch), loss_epoch, label = label)\n",
        "plt.title('Empirical Loss vs Epoch (Energy)')\n",
        "plt.xlabel('Epoch')\n",
        "plt.ylabel('Empirical Loss')\n",
        "plt.yscale('log')\n",
        "plt.legend()\n",
        "plt.show()\n",
        "\n",
        "plt.plot(range(epoch), error_epoch, label = label)\n",
        "plt.title('Fractional Error vs Epoch (Energy)')\n",
        "plt.xlabel('Epoch')\n",
        "plt.ylabel('Fractional Error')\n",
        "plt.yscale('log')\n",
        "plt.legend()\n",
        "plt.show()"
      ]
    },
    {
      "cell_type": "code",
      "execution_count": 32,
      "metadata": {
        "colab": {
          "base_uri": "https://localhost:8080/",
          "height": 295
        },
        "id": "fhwQxHSnX2K9",
        "outputId": "10d37201-a035-4b4d-9b1a-1a7ee2761c43"
      },
      "outputs": [
        {
          "data": {
            "image/png": "[encoded data removed]",
            "text/plain": [
              "<Figure size 432x288 with 1 Axes>"
            ]
          },
          "metadata": {
            "needs_background": "light"
          },
          "output_type": "display_data"
        }
      ],
      "source": [
        "with open('loss_record_all.pkl', 'rb') as f:\n",
        "    all_data = pickle.load(f)\n",
        "\n",
        "# Replace the value of new_data with the data want to compare.\n",
        "new_data = [[-0.047023099875977456, -0.06165234951769611, -0.03233857327001179, -0.030349374442425046, -0.0584814630763615, -0.04492622907573245], [0.02536431356951941, 0.024577069811648058, 0.02214710566289631, 0.022472282732965438, 0.020261843084035395, 0.019880207746692205], [25, 50, 75, 100, 125, 150]]\n",
        "dimension_list = [1, 2, 3, 10]\n",
        "net_width_list = all_data[2]\n",
        "r_value = 0\n",
        "\n",
        "for dim_idx, dim in enumerate(dimension_list):\n",
        "    if dim == 10:\n",
        "        if r_value == 0:\n",
        "            error_record = new_data[1]\n",
        "            label = 'dimension 10, epoch:7000, training data:5000'\n",
        "        else:\n",
        "            error_record = new_data[1]\n",
        "            label = f'dimension 10, epoch:7000, training data:5000 \\n regularization value: {r_value}'\n",
        "    else:\n",
        "        error_record = all_data[1][dim_idx*len(net_width_list):(dim_idx+1)*len(net_width_list)]\n",
        "        label = f'dimension {dim}, epoch:2000, training data:1000'    \n",
        "    plt.plot(net_width_list, error_record, label=label)\n",
        "\n",
        "    # Calculate the number of parameters and training data\n",
        "    for width_idx, width in enumerate(net_width_list):\n",
        "        d = dim\n",
        "        p = 2 * width ** 2 + (4 + d) * width + 1\n",
        "        if d == 1 or d == 2 or d == 3:\n",
        "            n = 1000\n",
        "        else:\n",
        "            n = 5000\n",
        "\n",
        "        # Check if p=n for the given width\n",
        "        if abs(p-n)/n < 1e-5:\n",
        "            plt.axvline(x=width, color='r')\n",
        "            plt.text(width, 0.1, f\"net parameters = training data\\nwidth:{width}\\ndimension:{dim}\")\n",
        "            break\n",
        "\n",
        "        # Check if p=n for a width between the current and next width\n",
        "        if width_idx < len(net_width_list)-1:\n",
        "            next_width = net_width_list[width_idx+1]\n",
        "            next_p = 2 * next_width ** 2 + (4 + d) * next_width + 1\n",
        "            if p < n < next_p:\n",
        "                approx_width = np.sqrt((n - (4+d)*width - 1/2) / 2)\n",
        "                plt.axvline(x=approx_width, color='r')\n",
        "                plt.text(approx_width, 0.1, f\"net parameters = training data\\nwidth:{int(approx_width)}\\ndimension:{dim}\")\n",
        "                break\n",
        "\n",
        "plt.legend()\n",
        "plt.xlabel('Network Width')\n",
        "plt.ylabel('Fractional Error')\n",
        "plt.yscale('log')  # set y-axis to log scale\n",
        "plt.title('Fractional Error vs Network Width for Different Dimensions (Energy)')\n",
        "plt.show()"
      ]
    }
  ],
  "metadata": {
    "colab": {
      "provenance": []
    },
    "gpuClass": "standard",
    "kernelspec": {
      "display_name": "Python 3",
      "name": "python3"
    },
    "language_info": {
      "name": "python"
    }
  },
  "nbformat": 4,
  "nbformat_minor": 0
}
