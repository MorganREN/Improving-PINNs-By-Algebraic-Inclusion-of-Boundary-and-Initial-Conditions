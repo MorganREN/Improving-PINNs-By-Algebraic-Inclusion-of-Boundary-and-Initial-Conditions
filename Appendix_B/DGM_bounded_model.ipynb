{
  "cells": [
    {
      "cell_type": "markdown",
      "metadata": {
        "id": "fFVKw29fyetx"
      },
      "source": [
        "Consider the following Poisson equation with Dirichlet boundary condition over a bounded domain $\\Omega\\subset\\mathbb{R}^d$\n",
        "\\begin{equation}\n",
        "\\begin{cases}\n",
        "-\\Delta u(x) = f(x), & \\;\\text{in} \\;\\Omega,\\\\\n",
        "u(x) = g(x), & \\; \\text{on} \\; \\partial\\Omega, \n",
        "\\end{cases}\n",
        "\\end{equation}\n",
        "where $f, g$ are given functions. \n",
        "Denote $u(x;\\theta)$   the approximate NN solution with the set of parameters  $\\theta$  in the NN. The collection of all $u(x;\\theta)$ is used as the trial space."
      ]
    },
    {
      "cell_type": "markdown",
      "metadata": {
        "id": "wMbQYqeKnpAi"
      },
      "source": [
        "## 1. Setup"
      ]
    },
    {
      "cell_type": "code",
      "execution_count": 19,
      "metadata": {
        "id": "7UKkf7WW_6Fp"
      },
      "outputs": [],
      "source": [
        "import torch\n",
        "from torch.autograd import Variable\n",
        "import torch.nn as nn\n",
        "import torch.nn.functional as F\n",
        "import torch.optim as optim\n",
        "from torch.optim.lr_scheduler import StepLR, MultiStepLR\n",
        "import numpy as np\n",
        "import matplotlib.pyplot as plt\n",
        "import matplotlib.colors\n",
        "from matplotlib.colors import LogNorm\n",
        "from math import *\n",
        "import time\n",
        "import copy\n",
        "import itertools\n",
        "from tqdm import *\n",
        "import seaborn as sns\n",
        "import matplotlib.pyplot as plt\n",
        "import random\n",
        "import pickle\n",
        "\n",
        "torch.set_default_tensor_type('torch.DoubleTensor')"
      ]
    },
    {
      "cell_type": "markdown",
      "metadata": {
        "id": "V_r9Vowwyjen"
      },
      "source": [
        "## 2. Hyperparameter"
      ]
    },
    {
      "cell_type": "code",
      "execution_count": 20,
      "metadata": {
        "id": "0WUwYN3rz9Ch"
      },
      "outputs": [],
      "source": [
        "# %%\n",
        "dimension_list = [1, 2, 3]\n",
        "net_width_list = list(range(25, 175, 25))\n",
        "# net_width_list = [100]"
      ]
    },
    {
      "cell_type": "markdown",
      "metadata": {
        "id": "ak0DF-9_zYoJ"
      },
      "source": [
        "## 3. Neural Architecture"
      ]
    },
    {
      "cell_type": "code",
      "execution_count": 21,
      "metadata": {
        "id": "i4_KsatB0cNQ"
      },
      "outputs": [],
      "source": [
        "# %%\n",
        "# activation function\n",
        "def activation(x):\n",
        "    return x * torch.sigmoid(x)\n",
        "\n",
        "# %%\n",
        "# build ResNet with one blocks\n",
        "class Net(torch.nn.Module):\n",
        "    def __init__(self,input_width,layer_width):\n",
        "        super(Net,self).__init__()\n",
        "        self.layer1 = torch.nn.Linear(input_width, layer_width)\n",
        "        self.layer2 = torch.nn.Linear(layer_width, layer_width)\n",
        "        self.layer3 = torch.nn.Linear(layer_width, layer_width)\n",
        "        self.layer4 = torch.nn.Linear(layer_width, 1)\n",
        "        self.initialize_weights()\n",
        "    def forward(self,x):\n",
        "        y = activation(self.layer1(x))\n",
        "        y = activation(self.layer3(activation(self.layer2(y)))) # residual block 1\n",
        "        output = self.layer4(y)\n",
        "        return output\n",
        "    def initialize_weights(self):\n",
        "        for m in self.modules():\n",
        "            if isinstance(m, nn.Linear):\n",
        "                nn.init.xavier_normal_(m.weight.data)\n",
        "                if m.bias is not None:\n",
        "                    m.bias.data.zero_()\n",
        "    def print_network(self):\n",
        "        num_params = 0\n",
        "        for param in self.parameters():\n",
        "            num_params += param.numel()\n",
        "        # print(self)\n",
        "        print('Total number of parameters: %d' % num_params)\n",
        "\n",
        "# %%\n",
        "#net = Net(input_width,layer_width)\n"
      ]
    },
    {
      "cell_type": "markdown",
      "metadata": {
        "id": "daqv_qcwJi-L"
      },
      "source": [
        "The experiment define the neural network $\\mathcal{N}: \\mathbb{R}^d \\rightarrow \\mathbb{R}$ as follows:\n",
        "\\begin{equation}\n",
        "\\mathcal{N}(\\vec{x}) := \\sigma(A_4\\cdot\\sigma(A_3\\cdot\\sigma (A_2\\cdot\\sigma (A_1))))\n",
        "\\end{equation}\n",
        "where ${\\rm A}_{1}, {\\rm A}_2, {\\rm A}_{3},$ and ${\\rm A}_{4}$ are fully-connected layers with the activation function $\\sigma$. The number of parameters in $\\mathcal{N}$ is given by $p = (d \\cdot {\\rm width} + {\\rm width}) + 2({\\rm width} \\cdot {\\rm width} + {\\rm width}) + ({\\rm width} \\cdot 1 + 1) = 2 \\cdot {\\rm width}^2 + (4 + d) \\cdot {\\rm width} + 1$.\n",
        "\n",
        "note: there are $p$ parameters need to be trained in total in ${\\rm N}(x)$"
      ]
    },
    {
      "cell_type": "markdown",
      "metadata": {
        "id": "YFKejxWuzj3x"
      },
      "source": [
        "## 4. Training Setup"
      ]
    },
    {
      "cell_type": "markdown",
      "metadata": {
        "id": "790zHpXlFL0z"
      },
      "source": [
        "### 4.1 Initialize the weights using Xavier normal initialization"
      ]
    },
    {
      "cell_type": "code",
      "execution_count": 22,
      "metadata": {
        "id": "ZAHOn6KJ0cyl"
      },
      "outputs": [],
      "source": [
        "# %%\n",
        "# Xavier normal initialization for weights:\n",
        "#             mean = 0 std = gain * sqrt(2 / fan_in + fan_out)\n",
        "# zero initialization for biases\n",
        "def initialize_weights(self):\n",
        "    for m in self.modules():\n",
        "        if isinstance(m,nn.Linear):\n",
        "            nn.init.xavier_normal_(m.weight.data)\n",
        "            if m.bias is not None:\n",
        "                m.bias.data.zero_()\n",
        "\n",
        "# %%\n",
        "#initialize_weights(net)"
      ]
    },
    {
      "cell_type": "markdown",
      "metadata": {
        "id": "MhLxoQY0FeTI"
      },
      "source": [
        "### 4.2 Define the exact solution\n",
        "\n",
        "$$[0,1]^d{\\ni}{\\vec x} {↦} u(x) = {∏}_{i=1}^d{\\sin}(π{\\vec x}_i) {∈} {\\mathbb R}$$"
      ]
    },
    {
      "cell_type": "code",
      "execution_count": 23,
      "metadata": {
        "id": "_xF9fri1FsPB"
      },
      "outputs": [],
      "source": [
        "# %%\n",
        "# defination of exact solution\n",
        "def u_ex(x, dimension):\n",
        "    temp = 1.0\n",
        "    for i in range(dimension):\n",
        "        temp = temp * torch.sin(pi*x[:, i])\n",
        "    u_temp = 1.0 * temp\n",
        "    return u_temp.reshape([x.size()[0], 1])"
      ]
    },
    {
      "cell_type": "markdown",
      "metadata": {
        "id": "P6MVRM2WFwCp"
      },
      "source": [
        "### 4.3 Define the $f(x)$\n",
        "$$[0,1]^d{\\ni }{\\vec x} {↦} f({\\vec x}) = dπ^2{∏}_{i=1}^d\\sin(πx_i){∈}{\\mathbb R}$$"
      ]
    },
    {
      "cell_type": "code",
      "execution_count": 24,
      "metadata": {
        "id": "BZ0BrfqAF0gR"
      },
      "outputs": [],
      "source": [
        "# %%\n",
        "# defination of f(x)\n",
        "def f(x, dimension):\n",
        "    temp = 1.0\n",
        "    for i in range(dimension):\n",
        "        temp = temp * torch.sin(pi*x[:, i])\n",
        "    u_temp = 1.0 * temp\n",
        "    f_temp = dimension * pi**2 * u_temp\n",
        "    return f_temp.reshape([x.size()[0], 1])\n"
      ]
    },
    {
      "cell_type": "markdown",
      "metadata": {
        "id": "lE8siDXIF5tS"
      },
      "source": [
        "### 4.4 Generate sample"
      ]
    },
    {
      "cell_type": "code",
      "execution_count": 25,
      "metadata": {
        "id": "vOU4RuMSGGui"
      },
      "outputs": [],
      "source": [
        "# %%\n",
        "# generate points by random\n",
        "def generate_sample(data_size, dimension):\n",
        "    sample_temp = torch.rand(data_size, dimension)\n",
        "    return sample_temp"
      ]
    },
    {
      "cell_type": "markdown",
      "metadata": {
        "id": "b-AvuZCZGIsL"
      },
      "source": [
        "### 4.5 Build the model\n",
        "\n",
        "\\begin{equation}\n",
        "model = u(x;\\theta) =   \\prod_{i = 1}^{d} (1-x_i) x_i \\cdot NN(x;\\theta).\n",
        "\\end{equation}\n",
        "where $NN(x;\\theta)$ is a function represented by a neural network. \n"
      ]
    },
    {
      "cell_type": "code",
      "execution_count": 26,
      "metadata": {
        "id": "AugSXw9oBhT8"
      },
      "outputs": [],
      "source": [
        "\n",
        "def model(x):\n",
        "    x_temp = x\n",
        "    D_x_0 = torch.prod(x_temp, axis = 1).reshape([x.size()[0], 1])\n",
        "    D_x_1 = torch.prod(1.0 - x_temp, axis = 1).reshape([x.size()[0], 1])\n",
        "    model_u_temp = D_x_0 * D_x_1 * net(x)\n",
        "    return model_u_temp.reshape([x.size()[0], 1])\n"
      ]
    },
    {
      "cell_type": "markdown",
      "metadata": {
        "id": "Z5BYTiqX_xkN"
      },
      "source": [
        "### 4.7 Define Loss function (residual)\n",
        "\\begin{equation}\n",
        "\\mathcal{L}{residual}(\\hat{u}) = \\frac{1}{N} \\sum_{i=1}^{N} \\left(-\\Delta \\hat{u}(\\vec{x}_i; \\theta) - f(\\vec{x}_i)\\right)^2, \\quad \\vec{x}_i \\in [0,1]^d\n",
        "\\end{equation}\n",
        "\n",
        "The loss function is the mean squared difference between the Laplacian of the predicted function $\\hat{u}$ and the source term $f$ at each point $\\vec{x}_i$, where $N$ is the total number of points in the domain $[0,1]^d$.\n",
        "\n",
        "note: for `loss_residual = torch.sum((-laplace_u - f(x))**2)  / len(x)`, it divides the length of x because the length of $Ω$ is 1"
      ]
    },
    {
      "cell_type": "code",
      "execution_count": 27,
      "metadata": {
        "id": "e_eWNc48Tl7I"
      },
      "outputs": [],
      "source": [
        "def loss_function_residual(x, dimension):\n",
        "    u_hat = model(x)\n",
        "    grad_u_hat = torch.autograd.grad(outputs=u_hat, inputs=x, grad_outputs=torch.ones(u_hat.shape), create_graph=True)\n",
        "    laplace_u = torch.zeros([len(grad_u_hat[0]), 1])\n",
        "    for index in range(dimension):\n",
        "        p_temp = grad_u_hat[0][:, index].reshape([len(grad_u_hat[0]), 1])\n",
        "        temp = torch.autograd.grad(outputs=p_temp, inputs=x, grad_outputs=torch.ones(p_temp.shape), create_graph=True, allow_unused = True)[0]  # dxx\n",
        "        laplace_u = temp[:, index].reshape([len(grad_u_hat[0]), 1]) + laplace_u\n",
        "        loss_residual = torch.sum((-laplace_u - f(x, dimension))**2) / len(x)\n",
        "    return loss_residual"
      ]
    },
    {
      "cell_type": "markdown",
      "metadata": {
        "id": "oJ4xCkB7-W2j"
      },
      "source": [
        "### 4.7 Define Fractional Error\n",
        "\n",
        "$${\\rm error} = \\frac{\\lVert \\hat u - u \\lVert _2^2}{\\lVert u \\lVert _2^2}$$"
      ]
    },
    {
      "cell_type": "code",
      "source": [
        "def fractional_error(x):\n",
        "  u_hat = model(x)\n",
        "  u = u_ex(x, input_width)\n",
        "  upper = torch.square((u_hat - u).norm(2))\n",
        "  lower = torch.square(u.norm(2))\n",
        "  return torch.divide(upper, lower)"
      ],
      "metadata": {
        "id": "GK3_cCQBNIW9"
      },
      "execution_count": 28,
      "outputs": []
    },
    {
      "cell_type": "markdown",
      "metadata": {
        "id": "bFjoBxc9zo50"
      },
      "source": [
        "## 5. Doing The Training"
      ]
    },
    {
      "cell_type": "code",
      "execution_count": 29,
      "metadata": {
        "id": "IhJNyxPJApgy"
      },
      "outputs": [],
      "source": [
        "random.seed(100)\n",
        "test_sample_size = 10000\n",
        "batch_size = 1000\n",
        "epoch = 10\n"
      ]
    },
    {
      "cell_type": "code",
      "execution_count": 30,
      "metadata": {
        "colab": {
          "base_uri": "https://localhost:8080/"
        },
        "id": "8Hj30pmfNkjv",
        "outputId": "9cdd1187-a091-4f75-90e6-78348e8c767d"
      },
      "outputs": [
        {
          "output_type": "stream",
          "name": "stdout",
          "text": [
            "The current width:25\n",
            "The current dimensions:1\n",
            "The current width:50\n",
            "The current dimensions:1\n",
            "The current width:75\n",
            "The current dimensions:1\n",
            "The current width:100\n",
            "The current dimensions:1\n",
            "The current width:125\n",
            "The current dimensions:1\n",
            "The current width:150\n",
            "The current dimensions:1\n",
            "The current width:25\n",
            "The current dimensions:2\n",
            "The current width:50\n",
            "The current dimensions:2\n",
            "The current width:75\n",
            "The current dimensions:2\n",
            "The current width:100\n",
            "The current dimensions:2\n",
            "The current width:125\n",
            "The current dimensions:2\n",
            "The current width:150\n",
            "The current dimensions:2\n",
            "The current width:25\n",
            "The current dimensions:3\n",
            "The current width:50\n",
            "The current dimensions:3\n",
            "The current width:75\n",
            "The current dimensions:3\n",
            "The current width:100\n",
            "The current dimensions:3\n",
            "The current width:125\n",
            "The current dimensions:3\n",
            "The current width:150\n",
            "The current dimensions:3\n"
          ]
        }
      ],
      "source": [
        "residual_loss_mat_r = np.zeros((len(net_width_list), len(dimension_list)))\n",
        "residual_fractional_error = np.zeros((len(net_width_list), len(dimension_list)))\n",
        "all_data_r = []\n",
        "epoch_data_r = []\n",
        "loss_record_r = []\n",
        "error_record_r = []\n",
        "loss_epoch_r = []\n",
        "error_epoch_r = []\n",
        "for dim_item in range(len(dimension_list)):\n",
        "    input_width = dimension_list[dim_item]\n",
        "    test_sample = generate_sample(test_sample_size, input_width)\n",
        "    for width_item in range(len(net_width_list)):\n",
        "        print(\"The current width:\"+ str(net_width_list[width_item]))\n",
        "        print(\"The current dimensions:\"+ str(dimension_list[dim_item]))\n",
        "        layer_width = net_width_list[width_item]\n",
        "        net = Net(input_width, layer_width)\n",
        "        initialize_weights(net)\n",
        "        optimizer = optim.Adam(net.parameters(), lr=0.0001)\n",
        "        data_size = batch_size\n",
        "        error_epoch = []\n",
        "        loss_epoch = []\n",
        "        for i in range(epoch):\n",
        "            optimizer.zero_grad()\n",
        "            x = generate_sample(data_size, input_width)\n",
        "            x.requires_grad = True\n",
        "            loss = loss_function_residual(x, input_width)\n",
        "            loss.backward()\n",
        "            optimizer.step()\n",
        "            torch.cuda.empty_cache()\n",
        "\n",
        "            test_sample_fractional_error = fractional_error(test_sample)\n",
        "            loss_epoch.append(float(loss))\n",
        "            error_epoch.append(float(test_sample_fractional_error))\n",
        "\n",
        "        test_sample_fractional_error = fractional_error(test_sample)\n",
        "        residual_fractional_error[width_item, dim_item] = float(test_sample_fractional_error)      \n",
        "        residual_loss_mat_r[width_item, dim_item] = float(loss)\n",
        "        loss_record_r.append(float(loss))\n",
        "        error_record_r.append(float(test_sample_fractional_error))\n",
        "        loss_epoch_r.append(loss_epoch)\n",
        "        error_epoch_r.append(error_epoch)\n",
        "\n",
        "  \n",
        "  \n",
        "all_data_r.append(loss_record_r)\n",
        "all_data_r.append(error_record_r)\n",
        "all_data_r.append(net_width_list)\n",
        "epoch_data_r.append(loss_epoch_r)\n",
        "epoch_data_r.append(error_epoch_r)\n",
        "\n",
        "with open('loss_record_all_r.pkl', 'wb') as f:\n",
        "     pickle.dump(all_data_r, f)\n",
        "with open('epoch_record_r.pkl', 'wb') as f:\n",
        "     pickle.dump(epoch_data_r, f)"
      ]
    },
    {
      "cell_type": "code",
      "execution_count": 31,
      "metadata": {
        "id": "AEftwvWv6ONU"
      },
      "outputs": [],
      "source": [
        "with open('loss_record_all_r.pkl', 'rb') as f:\n",
        "    b = pickle.load(f)"
      ]
    },
    {
      "cell_type": "code",
      "execution_count": 32,
      "metadata": {
        "id": "YUvl22PB7k_a",
        "colab": {
          "base_uri": "https://localhost:8080/"
        },
        "outputId": "1f66880f-923b-4467-ef2b-1f2891425f22"
      },
      "outputs": [
        {
          "output_type": "stream",
          "name": "stdout",
          "text": [
            "[[48.373863831499214, 48.50519414184368, 49.506409285756014, 46.56655048901997, 48.34160223642931, 48.23225936402537, 91.56172079513658, 90.25959765026361, 96.05649564297079, 95.07781186884718, 101.31758986052208, 99.98306570204198, 107.30838001314848, 106.79915855658274, 106.44160449634454, 109.60180161030173, 104.36984559692215, 105.06209365183919], [0.9939081076051576, 0.9919834428171277, 0.9905594827098126, 0.9882371266389466, 0.9872090646137702, 0.9786513823697824, 0.999178605066168, 0.9968501555511164, 0.9954427397948787, 0.993497974837443, 0.9944360061658474, 0.9900574575241017, 0.9985786241423832, 0.9999605559034238, 0.9983128654715656, 0.999115379485412, 0.9991507593957057, 0.9966349438047409], [25, 50, 75, 100, 125, 150]]\n"
          ]
        }
      ],
      "source": [
        "print(b)"
      ]
    },
    {
      "cell_type": "markdown",
      "metadata": {
        "id": "fUwVQpGwzvka"
      },
      "source": [
        "## 6. Plotting The Output"
      ]
    },
    {
      "cell_type": "code",
      "source": [
        "# Plot the performance of first 100 training epoch\n",
        "# loss_first_100_epochs = loss_epoch[0:10]\n",
        "# error_first_100_epochs = error_epoch[0:10]\n",
        "\n",
        "# x_values = range(0, 10)\n",
        "\n",
        "# plt.plot(x_values, loss_first_100_epochs)\n",
        "# plt.xlabel('Epoch')\n",
        "# plt.ylabel('Empirical loss')\n",
        "# plt.yscale('log')\n",
        "# plt.title('Change in empirical loss in first 100 epochs')\n",
        "# plt.show()\n",
        "\n",
        "# plt.plot(x_values, error_first_100_epochs)\n",
        "# plt.xlabel('Epoch')\n",
        "# plt.ylabel('Fractional error')\n",
        "# plt.yscale('log')\n",
        "# plt.title('Change in fractional error in first 100 epochs')\n",
        "# plt.show()"
      ],
      "metadata": {
        "id": "2ISeKtbMZfte"
      },
      "execution_count": 33,
      "outputs": []
    },
    {
      "cell_type": "code",
      "execution_count": 34,
      "metadata": {
        "id": "ysv8EXhcYupv",
        "colab": {
          "base_uri": "https://localhost:8080/",
          "height": 1000
        },
        "outputId": "efb59c09-24db-4d39-a840-f2ebad84937e"
      },
      "outputs": [
        {
          "output_type": "display_data",
          "data": {
            "text/plain": [
              "<Figure size 432x288 with 2 Axes>"
            ],
            "image/png": "[encoded data removed]"
          },
          "metadata": {
            "needs_background": "light"
          }
        },
        {
          "output_type": "display_data",
          "data": {
            "text/plain": [
              "<Figure size 576x432 with 2 Axes>"
            ],
            "image/png": "[encoded data removed]"
          },
          "metadata": {
            "needs_background": "light"
          }
        },
        {
          "output_type": "display_data",
          "data": {
            "text/plain": [
              "<Figure size 432x288 with 1 Axes>"
            ],
            "image/png": "[encoded data removed]"
          },
          "metadata": {
            "needs_background": "light"
          }
        },
        {
          "output_type": "display_data",
          "data": {
            "text/plain": [
              "<Figure size 432x288 with 1 Axes>"
            ],
            "image/png": "[encoded data removed]"
          },
          "metadata": {
            "needs_background": "light"
          }
        }
      ],
      "source": [
        "x_axis = dimension_list\n",
        "y_axis = net_width_list\n",
        "axrr = sns.heatmap(residual_loss_mat_r, xticklabels=x_axis,yticklabels=y_axis)\n",
        "plt.gca().invert_yaxis()\n",
        "axrr.set_xlabel(\"PDE dimension\")\n",
        "axrr.set_ylabel(\"Net Width\")\n",
        "axrr.set_title(\"Empirical Loss (Residual)\")\n",
        "plt.show()\n",
        "\n",
        "fig, axej = plt.subplots(figsize=(8, 6))\n",
        "axej = sns.heatmap(residual_fractional_error, xticklabels=dimension_list, yticklabels=net_width_list, ax=axej, cmap='coolwarm', norm=LogNorm())\n",
        "# axej = sns.heatmap(residual_fractional_error, xticklabels=dimension_list, yticklabels=net_width_list)\n",
        "plt.gca().invert_yaxis()\n",
        "axej.set_xlabel(\"PDE dimension\")\n",
        "axej.set_ylabel(\"Net Width\")\n",
        "axej.set_title(\"Fractional Error (Residual)\")\n",
        "cbar = axej.collections[0].colorbar\n",
        "cbar.set_label('Fractional Error (log-scale)')\n",
        "plt.show()\n",
        "\n",
        "\n",
        "label = f'dimension:{input_width},\\n width:{layer_width},\\n training data:{batch_size}'\n",
        "plt.plot(range(epoch), loss_epoch, label = label)\n",
        "plt.title('Empirical Loss vs Epoch (Residual)')\n",
        "plt.xlabel('Epoch')\n",
        "plt.ylabel('Empirical Loss')\n",
        "plt.yscale('log')\n",
        "plt.legend()\n",
        "plt.show()\n",
        "\n",
        "plt.plot(range(epoch), error_epoch, label = label)\n",
        "plt.title('Fractional Error vs Epoch (Residual)')\n",
        "plt.xlabel('Epoch')\n",
        "plt.ylabel('Fractional Error')\n",
        "plt.yscale('log')\n",
        "plt.legend()\n",
        "plt.show()"
      ]
    },
    {
      "cell_type": "code",
      "source": [
        "with open('loss_record_all_r.pkl', 'rb') as f:\n",
        "    all_data = pickle.load(f)\n",
        "\n",
        "# Replace the value of new_data with the data want to compare.\n",
        "new_data = [[6.281031446347219, 6.444218540835545, 1.3177669503714178, 0.510147974987644, 0.5322564405324786, 0.5580882126490767], [0.9434297223007564, 0.7535633362489259, 0.17059793045573315, 0.03888082165818331, 0.028237885687349334, 0.027083607492696744], [25, 50, 75, 100, 125, 150]]\n",
        "dimension_list = [1, 2, 3, 10]\n",
        "net_width_list = all_data[2]\n",
        "# dimension_list = [1, 2, 3]\n",
        "# net_width_list = all_data[2]\n",
        "\n",
        "\n",
        "for dim_idx, dim in enumerate(dimension_list):\n",
        "    if dim == 10:\n",
        "        error_record = new_data[1]\n",
        "        label = 'dimension 10, epoch:7000, training data:5000'\n",
        "    else:\n",
        "        error_record = all_data[1][dim_idx*len(net_width_list):(dim_idx+1)*len(net_width_list)]\n",
        "        label = f'dimension {dim}, epoch:2000, training data:1000'\n",
        "    plt.plot(net_width_list, error_record, label=label)\n",
        "\n",
        "    # Calculate the number of parameters and training data\n",
        "    for width_idx, width in enumerate(net_width_list):\n",
        "        d = dim\n",
        "        p = 2 * width ** 2 + (4 + d) * width + 1\n",
        "        if d == 1 or d == 2 or d == 3:\n",
        "            n = 1000\n",
        "        else:\n",
        "            n = 5000\n",
        "\n",
        "        # Check if p=n for the given width\n",
        "        if abs(p-n)/n < 1e-5:\n",
        "            plt.axvline(x=width, color='r')\n",
        "            plt.text(width, 0.1, f\"net parameters = training data\\nwidth:{width}\\ndimension:{dim}\")\n",
        "            break\n",
        "\n",
        "        # Check if p=n for a width between the current and next width\n",
        "        if width_idx < len(net_width_list)-1:\n",
        "            next_width = net_width_list[width_idx+1]\n",
        "            next_p = 2 * next_width ** 2 + (4 + d) * next_width + 1\n",
        "            if p < n < next_p:\n",
        "                approx_width = np.sqrt((n - (4+d)*width - 1/2) / 2)\n",
        "                plt.axvline(x=approx_width, color='r')\n",
        "                plt.text(approx_width, 0.1, f\"net parameters = training data\\nwidth:{int(approx_width)}\\ndimension:{dim}\")\n",
        "                break\n",
        "\n",
        "plt.legend()\n",
        "plt.xlabel('Network Width')\n",
        "plt.ylabel('Fractional Error')\n",
        "plt.title('Fractional Error vs Network Width for Different Dimensions (Residual)')\n",
        "plt.yscale('log') \n",
        "plt.show()"
      ],
      "metadata": {
        "colab": {
          "base_uri": "https://localhost:8080/",
          "height": 295
        },
        "id": "b5UplOJbZEJn",
        "outputId": "19aaf799-2380-4ea7-d548-3673d75f7849"
      },
      "execution_count": 35,
      "outputs": [
        {
          "output_type": "display_data",
          "data": {
            "text/plain": [
              "<Figure size 432x288 with 1 Axes>"
            ],
            "image/png": "[encoded data removed]"
          },
          "metadata": {
            "needs_background": "light"
          }
        }
      ]
    }
  ],
  "metadata": {
    "colab": {
      "provenance": []
    },
    "gpuClass": "standard",
    "kernelspec": {
      "display_name": "Python 3",
      "name": "python3"
    },
    "language_info": {
      "name": "python"
    }
  },
  "nbformat": 4,
  "nbformat_minor": 0
}