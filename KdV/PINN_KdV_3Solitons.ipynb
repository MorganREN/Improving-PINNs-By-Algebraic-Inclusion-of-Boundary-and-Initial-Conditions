{
  "cells": [
    {
      "attachments": {},
      "cell_type": "markdown",
      "metadata": {
        "id": "jDFNnqYXbYYZ"
      },
      "source": [
        "\n",
        "Consider the following KdV equation:\n",
        "$$\\frac{\\partial u}{∂t} + \\frac{∂^3u}{∂x^3} + 6u\\frac{∂u}{∂x} = 0, (x,t)∈[-4,4] × [-0.5,0.5]$$"
      ]
    },
    {
      "cell_type": "markdown",
      "metadata": {
        "id": "KRA_KaNqNqYk"
      },
      "source": [
        "## 1.Setup"
      ]
    },
    {
      "cell_type": "code",
      "execution_count": 51,
      "metadata": {
        "id": "m_Nr33MaOAEG"
      },
      "outputs": [],
      "source": [
        "# %%\n",
        "import torch\n",
        "from torch.autograd import Variable\n",
        "import torch.nn as nn\n",
        "import torch.nn.functional as F\n",
        "import torch.optim as optim\n",
        "from torch.optim.lr_scheduler import StepLR, MultiStepLR\n",
        "import numpy as np\n",
        "import matplotlib.pyplot as plt\n",
        "from math import *\n",
        "import time\n",
        "import copy\n",
        "import pickle\n",
        "import os\n",
        "\n",
        "# %%\n",
        "torch.set_default_tensor_type('torch.DoubleTensor')\n",
        "plt.style.use('seaborn-white')"
      ]
    },
    {
      "cell_type": "markdown",
      "metadata": {
        "id": "0w0dwNSKNvFm"
      },
      "source": [
        "## 2.Hyperparameter"
      ]
    },
    {
      "cell_type": "code",
      "execution_count": 64,
      "metadata": {
        "id": "3UYJCExjOMfc"
      },
      "outputs": [],
      "source": [
        "dimension = 2\n",
        "input_width,layer_width = dimension, 35\n",
        "\n",
        "repeat = 1  # Editable\n",
        "epoch1, epoch2, epoch3 = 1, 1, 1  # Editable\n",
        "lr = 1e-3  # Editable\n",
        "data_size = 18000  # Editable\n",
        "data_initial_size = 914  # Editable\n",
        "\n",
        "left_boundary = -1\n",
        "right_boundary = 1\n",
        "\n",
        "# create directory to save results\n",
        "if not os.path.exists('data/KdV3_transformation'):\n",
        "    os.makedirs('data/KdV3_transformation')\n",
        "\n",
        "# create directory to save temporary results\n",
        "if not os.path.exists('temp/KdV3_transformation'):\n",
        "    os.makedirs('temp/KdV3_transformation')\n",
        "\n",
        "# create directory to save images\n",
        "if not os.path.exists('images/KdV3_transformation'):\n",
        "    os.makedirs('images/KdV3_transformation')"
      ]
    },
    {
      "cell_type": "markdown",
      "metadata": {
        "id": "zqe_4DWRNzZq"
      },
      "source": [
        "## 3.Neural Architecture"
      ]
    },
    {
      "cell_type": "code",
      "execution_count": 65,
      "metadata": {
        "id": "Hv4rQdBGOHwU"
      },
      "outputs": [],
      "source": [
        "# %%\n",
        "# activation function\n",
        "def activation(x):\n",
        "    return torch.sin(x)\n",
        "\n",
        "\n",
        "# %%\n",
        "# build ResNet with one blocks\n",
        "class Net(torch.nn.Module):\n",
        "    def __init__(self,input_width,layer_width):\n",
        "        super(Net,self).__init__()\n",
        "        self.layer1 = torch.nn.Linear(input_width, layer_width)\n",
        "        self.layer2 = torch.nn.Linear(layer_width, layer_width)\n",
        "        self.layer3 = torch.nn.Linear(layer_width, layer_width)\n",
        "        self.layer4 = torch.nn.Linear(layer_width, layer_width)\n",
        "        self.layer5 = torch.nn.Linear(layer_width, 1)\n",
        "        self.initialize_weights()\n",
        "    def forward(self,x):\n",
        "        y = activation(self.layer1(x))\n",
        "        y = activation(self.layer4(activation(self.layer3(activation(self.layer2(y)))))) # residual block 1\n",
        "        output = self.layer5(y)\n",
        "        return output\n",
        "    def initialize_weights(self):\n",
        "        for m in self.modules():\n",
        "            if isinstance(m, nn.Linear):\n",
        "                nn.init.xavier_normal_(m.weight.data)\n",
        "                if m.bias is not None:\n",
        "                    m.bias.data.zero_()\n",
        "    def print_network(self):\n",
        "        num_params = 0\n",
        "        for param in self.parameters():\n",
        "            num_params += param.numel()\n",
        "        # print(self)\n",
        "        print('Total number of parameters: %d' % num_params)"
      ]
    },
    {
      "attachments": {},
      "cell_type": "markdown",
      "metadata": {
        "id": "wo0RhblbS2KM"
      },
      "source": [
        "${\\rm N}(\\vec{x}) := {\\rm A}_5({\\sigma}{\\rm A}_4(σ{\\rm A}_3({σ}{\\rm A}_2({σ}{\\rm A}_{\\rm 1}(\\vec{x})))))$, where\n",
        "\n",
        "${\\rm A}_1: \\mathbb{R^2}{→}\\mathbb{R}^{\\rm width}$, ${\\rm A}_2: \\mathbb{R}^{\\rm width}{→}\\mathbb{R}^{\\rm width}$, ${\\rm A}_3: \\mathbb{R}^{\\rm width}{→}\\mathbb{R}^{\\rm width}$, ${\\rm A}_4: \\mathbb{R}^{\\rm width}{→}\\mathbb{R}^{\\rm width}$, ${\\rm A}_5: \\mathbb{R}^{\\rm width}{→}\\mathbb{R}$, \n",
        "\n",
        "note: there are `n` parameters need to be trained in total in ${\\rm N}(x)$, where\n",
        "\n",
        "$ {\\rm n} = (2 ⋅ {\\rm width} + {\\rm width}) + 3({\\rm width} ⋅ {\\rm width} + {\\rm width}) + ({\\rm width} ⋅ 1 + 1) = 3 ⋅ {\\rm width} ^2 + 7 ⋅ {\\rm width} + 1$\n",
        "\n",
        "(3921 for width equal to 35)"
      ]
    },
    {
      "cell_type": "markdown",
      "metadata": {
        "id": "1cnQpjg_N3KS"
      },
      "source": [
        "## 4.Training setup"
      ]
    },
    {
      "attachments": {},
      "cell_type": "markdown",
      "metadata": {
        "id": "aI_KwIkJlCXC"
      },
      "source": [
        "### 4.1 Define the exact solution\n",
        "\n",
        "$$[-4,4]{×}[-0.5,0.5]{\\ni}(x, t) {↦} u(x, t) = 2({\\rm log}f)_{xx} {∈} {\\mathbb R}$$\n",
        "\n",
        "where \n",
        "\n",
        "$f = 1 + e^{η_1} + e^{η_2} + e^{η_3} + e^{η_1+η_2+Α_{12}} + e^{η_2+η_3+Α_{23}} + e^{η_3+η_1+Α_{31}} + e^{η_1+η_2+η_3+Α_{12}+Α_{23}+Α_{31}}$, \n",
        "\n",
        "$η_i = k_ix -k_i^3t + η_i^{(0)}$, and \n",
        "\n",
        "$e^{Α_{ij}} = (\\frac{k_i - k_j}{k_i+k_j})^2$\n",
        "\n",
        "For initial conditions, the solution is used at $t=0$ and one set of values of the parameters are studied, namely:\n",
        "$k_1 = 2, k_2=4, k_3=-6, η_1^{(0)}={\\rm ln}\\frac{3}{2}, η_2^{(0)}={\\rm ln}\\frac{3}{5}, η_2^{(0)}={\\rm ln}\\frac{1}{10}$\n"
      ]
    },
    {
      "cell_type": "code",
      "execution_count": 66,
      "metadata": {
        "id": "pKHxvvkSwzO0"
      },
      "outputs": [],
      "source": [
        "# defination of exact solution\n",
        "def u_ex(X):\n",
        "    x = X[:,0]\n",
        "    t = X[:,1]\n",
        "    # four values shown in the paper\n",
        "    k1 = 2\n",
        "    k2 = 4\n",
        "    k3 = -6\n",
        "    eta1 = log(3/2)\n",
        "    eta2 = log(3/5)\n",
        "    eta3 = log(1/10)\n",
        "\n",
        "    etaMat1 = (k1*x - k1**3*t + eta1).reshape([x.size()[0], 1])\n",
        "    etaMat2 = (k2*x - k2**3*t + eta2).reshape([x.size()[0], 1])\n",
        "    etaMat3 = (k3*x - k3**3*t + eta3).reshape([x.size()[0], 1])\n",
        "    c12 = ((k1 - k2)/(k1 + k2))**2\n",
        "    c23 = ((k2 - k3)/(k2 + k3))**2\n",
        "    c31 = ((k1 - k3)/(k1 + k3))**2\n",
        "\n",
        "    f = 1.0 + torch.exp(etaMat1) + torch.exp(etaMat2) + torch.exp(etaMat3) + torch.exp(etaMat1) * torch.exp(etaMat2) * c12 + torch.exp(etaMat2) * torch.exp(etaMat3) * c23 + torch.exp(etaMat3) * torch.exp(etaMat1) * c31 + torch.exp(etaMat1) * torch.exp(etaMat2) * torch.exp(etaMat3) * c12 * c23 * c31\n",
        "\n",
        "    df = k1*torch.exp(etaMat1) + k2*torch.exp(etaMat2) + k3*torch.exp(etaMat3) + (k1 + k2)*(torch.exp(etaMat1) * torch.exp(etaMat2) * c12) + (k2 + k3)*(torch.exp(etaMat2) * torch.exp(etaMat3) * c23) + (k3 + k1)*(torch.exp(etaMat3) * torch.exp(etaMat1) * c31) + (k1 + k2 + k3)*(torch.exp(etaMat1) * torch.exp(etaMat2) * torch.exp(etaMat3) * c12 * c23 * c31)\n",
        "\n",
        "    ddf = (k1**2)*torch.exp(etaMat1) + (k2**2)*torch.exp(etaMat2) + (k3**2)*torch.exp(etaMat3) + ((k1 + k2)**2)*(torch.exp(etaMat1) * torch.exp(etaMat2) * c12) + ((k2 + k3)**2)*(torch.exp(etaMat2) * torch.exp(etaMat3) * c23) + ((k3 + k1)**2)*(torch.exp(etaMat3) * torch.exp(etaMat1) * c31) + ((k1 + k2 + k3)**2)*(torch.exp(etaMat1) * torch.exp(etaMat2) * torch.exp(etaMat3) * c12 * c23 * c31)\n",
        "\n",
        "    y = 2 * (f * ddf - df**2) / (f**2)  # Use chains rule to get the second derivative of lnf in terms of x\n",
        "    return y.reshape([X.size()[0], 1])"
      ]
    },
    {
      "attachments": {},
      "cell_type": "markdown",
      "metadata": {
        "id": "MIfSJfCRfLyW"
      },
      "source": [
        "### 4.2 Define $u_0(x)$\n",
        "\n",
        "$$[-4,4]{\\ni}x {↦} u_0(x) = -12{\\rm {sech}}^2(x) {∈} {\\mathbb R}$$"
      ]
    },
    {
      "cell_type": "code",
      "execution_count": 67,
      "metadata": {
        "id": "7Aza_aCsfAVu"
      },
      "outputs": [],
      "source": [
        "def u_0x(X):\n",
        "    x = X[:,0]\n",
        "    t = X[:,1]\n",
        "    return 12 * torch.square(torch.divide(1, torch.cosh(x))).reshape([X.size()[0], 1])"
      ]
    },
    {
      "attachments": {},
      "cell_type": "markdown",
      "metadata": {
        "id": "PFjTzA6IheGj"
      },
      "source": [
        "### 4.3 Define g(x,t)\n",
        "\n",
        "#### 4.3.1 Define g_0(x, t)\n",
        "\n",
        "<!-- $$ \\{0,1\\}×[0,1] \\ni (x,t) ↦ g(x,t) = -{\\frac{1}{2}}{\\rm c}sech^2[{\\frac{\\sqrt {\\rm c}}{2}}(x-{\\rm c}t-{\\rm a})] ∈ {\\mathbb R}$$ -->\n",
        "\n",
        "$$[-0.5,0.5]{\\ni}t {↦}g_0(t) := u(-1,t) = 2({\\rm log}f)_{xx} \\mid_{x=-4} {∈} {\\mathbb R}$$\n",
        "\n",
        "where \n",
        "\n",
        "$f = 1 + e^{η_1} + e^{η_2} + e^{η_3} + e^{η_1+η_2+Α_{12}} + e^{η_2+η_3+Α_{23}} + e^{η_3+η_1+Α_{31}} + e^{η_1+η_2+η_3+Α_{12}+Α_{23}+Α_{31}}$, \n",
        "\n",
        "$η_i = -15k_i -k_i^3t + η_i^{(0)}$, and \n",
        "\n",
        "$e^{Α_{ij}} = (\\frac{k_i - k_j}{k_i+k_j})^2$\n",
        "\n",
        "For initial conditions, the solution is used at $t=0$ and two different sets of values of the parameters are studied, namely:\n",
        "$k_1 = 2, k_2=4, k_3=-6, η_1^{(0)}={\\rm ln}\\frac{3}{2}, η_2^{(0)}={\\rm ln}\\frac{3}{5}, η_2^{(0)}={\\rm ln}\\frac{1}{10}$"
      ]
    },
    {
      "cell_type": "code",
      "execution_count": 68,
      "metadata": {
        "id": "F_AV3myjmlxy"
      },
      "outputs": [],
      "source": [
        "def g_0x(X):\n",
        "    x = torch.zeros([X.shape[0],1])[:,0]+left_boundary\n",
        "    x.requires_grad = True\n",
        "    t = X[:,1]\n",
        "    # four values shown in the paper\n",
        "    k1 = 2\n",
        "    k2 = 4\n",
        "    k3 = -6\n",
        "    eta1 = log(3/2)\n",
        "    eta2 = log(3/5)\n",
        "    eta3 = log(1/10)\n",
        "\n",
        "    etaMat1 = (k1*x - k1**3*t + eta1).reshape([x.size()[0], 1])\n",
        "    etaMat2 = (k2*x - k2**3*t + eta2).reshape([x.size()[0], 1])\n",
        "    etaMat3 = (k3*x - k3**3*t + eta3).reshape([x.size()[0], 1])\n",
        "    c12 = ((k1 - k2)/(k1 + k2))**2\n",
        "    c23 = ((k2 - k3)/(k2 + k3))**2\n",
        "    c31 = ((k1 - k3)/(k1 + k3))**2\n",
        "\n",
        "    f = 1.0 + torch.exp(etaMat1) + torch.exp(etaMat2) + torch.exp(etaMat3) + torch.exp(etaMat1) * torch.exp(etaMat2) * c12 + torch.exp(etaMat2) * torch.exp(etaMat3) * c23 + torch.exp(etaMat3) * torch.exp(etaMat1) * c31 + torch.exp(etaMat1) * torch.exp(etaMat2) * torch.exp(etaMat3) * c12 * c23 * c31\n",
        "\n",
        "    df = k1*torch.exp(etaMat1) + k2*torch.exp(etaMat2) + k3*torch.exp(etaMat3) + (k1 + k2)*(torch.exp(etaMat1) * torch.exp(etaMat2) * c12) + (k2 + k3)*(torch.exp(etaMat2) * torch.exp(etaMat3) * c23) + (k3 + k1)*(torch.exp(etaMat3) * torch.exp(etaMat1) * c31) + (k1 + k2 + k3)*(torch.exp(etaMat1) * torch.exp(etaMat2) * torch.exp(etaMat3) * c12 * c23 * c31)\n",
        "\n",
        "    ddf = (k1**2)*torch.exp(etaMat1) + (k2**2)*torch.exp(etaMat2) + (k3**2)*torch.exp(etaMat3) + ((k1 + k2)**2)*(torch.exp(etaMat1) * torch.exp(etaMat2) * c12) + ((k2 + k3)**2)*(torch.exp(etaMat2) * torch.exp(etaMat3) * c23) + ((k3 + k1)**2)*(torch.exp(etaMat3) * torch.exp(etaMat1) * c31) + ((k1 + k2 + k3)**2)*(torch.exp(etaMat1) * torch.exp(etaMat2) * torch.exp(etaMat3) * c12 * c23 * c31)\n",
        "\n",
        "    y = 2 * (f * ddf - df**2) / (f**2)  # Use chains rule to get the second derivative of lnf in terms of x\n",
        "    return y.reshape([X.size()[0], 1])"
      ]
    },
    {
      "attachments": {},
      "cell_type": "markdown",
      "metadata": {},
      "source": [
        "#### 4.3.2 Define g_1(x, t)\n",
        "\n",
        "<!-- $$ \\{0,1\\}×[0,1] \\ni (x,t) ↦ g(x,t) = -{\\frac{1}{2}}{\\rm c}sech^2[{\\frac{\\sqrt {\\rm c}}{2}}(x-{\\rm c}t-{\\rm a})] ∈ {\\mathbb R}$$ -->\n",
        "\n",
        "$$[-0.5,0.5]{\\ni}t {↦}g_0(t) := u(1,t) = 2({\\rm log}f)_{xx} \\mid_{x=4} {∈} {\\mathbb R}$$\n",
        "\n",
        "where \n",
        "\n",
        "$f = 1 + e^{η_1} + e^{η_2} + e^{η_3} + e^{η_1+η_2+Α_{12}} + e^{η_2+η_3+Α_{23}} + e^{η_3+η_1+Α_{31}} + e^{η_1+η_2+η_3+Α_{12}+Α_{23}+Α_{31}}$, \n",
        "\n",
        "$η_i = 15k_i -k_i^3t + η_i^{(0)}$, and \n",
        "\n",
        "$e^{Α_{ij}} = (\\frac{k_i - k_j}{k_i+k_j})^2$\n",
        "\n",
        "For initial conditions, the solution is used at $t=0$ and two different sets of values of the parameters are studied, namely:\n",
        "$k_1 = 2, k_2=4, k_3=-6, η_1^{(0)}={\\rm ln}\\frac{3}{2}, η_2^{(0)}={\\rm ln}\\frac{3}{5}, η_2^{(0)}={\\rm ln}\\frac{1}{10}$"
      ]
    },
    {
      "cell_type": "code",
      "execution_count": 69,
      "metadata": {
        "id": "R0Hm4o5emxZ2"
      },
      "outputs": [],
      "source": [
        "def g_1x(X):\n",
        "    x = torch.zeros([X.shape[0],1])[:,0]+right_boundary\n",
        "    x.requires_grad = True\n",
        "    t = X[:,1]\n",
        "    # four values shown in the paper\n",
        "    k1 = 2\n",
        "    k2 = 4\n",
        "    k3 = -6\n",
        "    eta1 = log(3/2)\n",
        "    eta2 = log(3/5)\n",
        "    eta3 = log(1/10)\n",
        "\n",
        "    etaMat1 = (k1*x - k1**3*t + eta1).reshape([x.size()[0], 1])\n",
        "    etaMat2 = (k2*x - k2**3*t + eta2).reshape([x.size()[0], 1])\n",
        "    etaMat3 = (k3*x - k3**3*t + eta3).reshape([x.size()[0], 1])\n",
        "    c12 = ((k1 - k2)/(k1 + k2))**2\n",
        "    c23 = ((k2 - k3)/(k2 + k3))**2\n",
        "    c31 = ((k1 - k3)/(k1 + k3))**2\n",
        "\n",
        "    f = 1.0 + torch.exp(etaMat1) + torch.exp(etaMat2) + torch.exp(etaMat3) + torch.exp(etaMat1) * torch.exp(etaMat2) * c12 + torch.exp(etaMat2) * torch.exp(etaMat3) * c23 + torch.exp(etaMat3) * torch.exp(etaMat1) * c31 + torch.exp(etaMat1) * torch.exp(etaMat2) * torch.exp(etaMat3) * c12 * c23 * c31\n",
        "\n",
        "    df = k1*torch.exp(etaMat1) + k2*torch.exp(etaMat2) + k3*torch.exp(etaMat3) + (k1 + k2)*(torch.exp(etaMat1) * torch.exp(etaMat2) * c12) + (k2 + k3)*(torch.exp(etaMat2) * torch.exp(etaMat3) * c23) + (k3 + k1)*(torch.exp(etaMat3) * torch.exp(etaMat1) * c31) + (k1 + k2 + k3)*(torch.exp(etaMat1) * torch.exp(etaMat2) * torch.exp(etaMat3) * c12 * c23 * c31)\n",
        "\n",
        "    ddf = (k1**2)*torch.exp(etaMat1) + (k2**2)*torch.exp(etaMat2) + (k3**2)*torch.exp(etaMat3) + ((k1 + k2)**2)*(torch.exp(etaMat1) * torch.exp(etaMat2) * c12) + ((k2 + k3)**2)*(torch.exp(etaMat2) * torch.exp(etaMat3) * c23) + ((k3 + k1)**2)*(torch.exp(etaMat3) * torch.exp(etaMat1) * c31) + ((k1 + k2 + k3)**2)*(torch.exp(etaMat1) * torch.exp(etaMat2) * torch.exp(etaMat3) * c12 * c23 * c31)\n",
        "\n",
        "    y = 2 * (f * ddf - df**2) / (f**2)  # Use chains rule to get the second derivative of lnf in terms of x\n",
        "    return y.reshape([X.size()[0], 1])"
      ]
    },
    {
      "attachments": {},
      "cell_type": "markdown",
      "metadata": {
        "id": "zVDIiiB7xhgj"
      },
      "source": [
        "\n",
        "\n",
        "### 4.4 Build the model (Train on the initial condition)\n",
        "\n",
        "$[-4, 4] \\ni x = {\\vec X}[:,0]$\n",
        "\n",
        "$[-0.5, 0.5] \\ni t = {\\vec X}[:,1]$\n",
        "\n",
        "<!-- $${\\rm model}({\\vec x}) := {\\rm N}({\\vec x}) × x × (1-x) × t + x \\times t × g(1, t) + (1-x) × t × g(0, t) + (1-t) × x × (1-x) × u_0(x, 0)$$ -->\n",
        "\n",
        "$${\\rm model_{vanilla}}({x, t}) := {\\rm N}(x, t)$$\n",
        "\n",
        "$${\\rm model_{boundary-included}}({x,t}) := {\\rm N}(x, t) ⋅ \\frac{(4+x)}{8} ⋅ \\frac{(4-x)}{8} + \\frac{(4-x)}{8} ⋅ g_0(t)  + \\frac{(4+x)}{8} ⋅ g_1(t)$$\n",
        "\n",
        "$${\\rm model_{initial-included}}({x,t}) := {\\rm N}(x, t) ⋅ \\frac{t^2}{t^2 + q} + \\frac{q}{t^2 + q} ⋅ u_0(x)$$"
      ]
    },
    {
      "cell_type": "code",
      "execution_count": 70,
      "metadata": {
        "id": "6OkiMIxJxlIl"
      },
      "outputs": [],
      "source": [
        "def model1(X):\n",
        "    term1 = net1(X)\n",
        "    model_u_temp =  term1\n",
        "    return model_u_temp.reshape([X.size()[0], 1])\n",
        "\n",
        "def model2(X):\n",
        "    x = X[:,0]\n",
        "    t = X[:,1]\n",
        "    x_temp = torch.add(x, -left_boundary).reshape([x.size()[0], 1]) / (right_boundary - left_boundary)\n",
        "    x_minus = torch.subtract(right_boundary, x).reshape([x.size()[0], 1]) / (right_boundary - left_boundary)\n",
        "\n",
        "    term1 = net2(X) * x_temp * x_minus\n",
        "#     term1 = net(X) * x_temp * x_minus * t_temp\n",
        "    term2 = x_minus * g_0x(X)\n",
        "    term3 = x_temp * g_1x(X)\n",
        "    \n",
        "    model_u_temp =  term1 + term2 + term3\n",
        "                   \n",
        "    return model_u_temp.reshape([x.size()[0], 1])\n",
        "\n",
        "def model3(X):\n",
        "    q = 10e-5\n",
        "    x = X[:,0]\n",
        "    t = torch.square(X[:,1].reshape([x.size()[0], 1]))\n",
        "    # t = X[:,1].reshape([x.size()[0], 1])\n",
        "    factor1 = t / (t + q)\n",
        "    # print(factor1)\n",
        "    factor2 = q / (t + q)\n",
        "    # print(factor2)\n",
        "\n",
        "    term1 = net3(X) * factor1\n",
        "    term2 = factor2 * u_0x(X)\n",
        "    \n",
        "    model_u_temp =  term1 + term2\n",
        "                   \n",
        "    return model_u_temp.reshape([x.size()[0], 1])"
      ]
    },
    {
      "cell_type": "markdown",
      "metadata": {
        "id": "_lXjIw1nmTAi"
      },
      "source": [
        "### 4.5 Generate sample"
      ]
    },
    {
      "attachments": {},
      "cell_type": "markdown",
      "metadata": {
        "id": "v7J4vL_5q7XF"
      },
      "source": [
        "#### 4.5.1 $ν_1$ generator\n",
        "\n",
        "Generate random points $(x_n, t_n)$ from $[-4,4] × [-0.5,0.5]$"
      ]
    },
    {
      "cell_type": "code",
      "execution_count": 71,
      "metadata": {
        "id": "TZMgsxFFljIk"
      },
      "outputs": [],
      "source": [
        "# generate points by random\n",
        "def generate_sample_one(data_size):\n",
        "    sample_temp = torch.rand(data_size, dimension)\n",
        "    sample_temp[:,0] = sample_temp[:,0] * (right_boundary - left_boundary) - (right_boundary - left_boundary) / 2\n",
        "    sample_temp[:,1] = sample_temp[:,1] - 0.5\n",
        "    sample_temp.requires_grad = True\n",
        "    return sample_temp"
      ]
    },
    {
      "attachments": {},
      "cell_type": "markdown",
      "metadata": {
        "id": "U4rV0aA4vR5W"
      },
      "source": [
        "#### 4.5.2 $ν_2$ generator\n",
        "\n",
        "Generate random points $(x_n, t_n)$ from $\\{-4,4\\} × [-0.5,0.5]$"
      ]
    },
    {
      "cell_type": "code",
      "execution_count": 72,
      "metadata": {
        "id": "TrDYWQdvdwfA"
      },
      "outputs": [],
      "source": [
        "def generate_sample_two(data_initial_size):\n",
        "    sample_temp = torch.rand(data_initial_size, dimension)\n",
        "    middle = int(data_initial_size/2)\n",
        "    sample_temp[:middle, 0] = left_boundary\n",
        "    sample_temp[middle:, 0] = right_boundary\n",
        "    sample_temp[:,1] = sample_temp[:,1] - 0.5\n",
        "    sample_temp.requires_grad = True\n",
        "    return sample_temp"
      ]
    },
    {
      "attachments": {},
      "cell_type": "markdown",
      "metadata": {
        "id": "OWv1hHX3veWc"
      },
      "source": [
        "#### 4.5.3 $ν_3$ generator\n",
        "\n",
        "Generate random points $x_n$ from $[-4,4]$"
      ]
    },
    {
      "cell_type": "code",
      "execution_count": 73,
      "metadata": {
        "id": "hbAcU_W-vzZO"
      },
      "outputs": [],
      "source": [
        "def generate_sample_three(data_initial_size):\n",
        "    sample_temp = torch.rand(data_initial_size, dimension)\n",
        "    sample_temp[:,1] = 0.0\n",
        "    sample_temp[:,0] = sample_temp[:,0] * (right_boundary - left_boundary) - (right_boundary - left_boundary) / 2\n",
        "    sample_temp.requires_grad = True\n",
        "    return sample_temp"
      ]
    },
    {
      "attachments": {},
      "cell_type": "markdown",
      "metadata": {
        "id": "oCbyEnzT8AOZ"
      },
      "source": [
        "### 4.6 Define Loss function \n",
        "**(Penalty term: Residual)**\n",
        "\n",
        "$${\\rm Loss_1}(û) = \\lVert{\\frac{∂û}{∂t}} + {\\frac{∂^3û}{∂x^3}} + 6u{\\frac{∂û}{∂x}}\\rVert^2_{[-4,4]{×}{[-0.5,0.5]},{ν_1}} + \\lVert û-g(x) \\rVert^2_{{\\{-5, 5\\}}\\times[-0.4,0.4], ν_2} + \\lVert û-u_0(x)\\rVert^2_{[-4,4], ν_3}$$\n",
        "\n",
        "**(Penalty term: Residual + initial condition)**\n",
        "\n",
        "$${\\rm Loss_2}(û) = \\lVert{\\frac{∂û}{∂t}} + {\\frac{∂^3û}{∂x^3}} + 6u{\\frac{∂û}{∂x}}\\rVert^2_{[-4,4]{×}{[-0.5,0.5]},{ν_1}} + \\lVert û-u_0(x)\\rVert^2_{[-4,4], ν_3}$$\n",
        "\n",
        "**(Penalty term: Residual + boundary condition)**\n",
        "\n",
        "$${\\rm Loss_3}(û) = \\lVert{\\frac{∂û}{∂t}} + {\\frac{∂^3û}{∂x^3}} + 6u{\\frac{∂û}{∂x}}\\rVert^2_{[-4,4]{×}{[-0.5,0.5]},{ν_1}} + \\lVert û-g(x) \\rVert^2_{{\\{-4, 4\\}}\\times[-0.5,0.5], ν_2} $$"
      ]
    },
    {
      "cell_type": "code",
      "execution_count": 74,
      "metadata": {
        "id": "JZbEVX8lT3rC"
      },
      "outputs": [],
      "source": [
        "# %%\n",
        "# loss function to PINN by auto differential\n",
        "def loss_function1(x1, x2, x3):\n",
        "    # first term\n",
        "    u_hat = model1(x1)\n",
        "    grad_u_hat = torch.autograd.grad(outputs = u_hat, inputs = x1, grad_outputs = torch.ones(u_hat.shape), create_graph = True) # dx and dt\n",
        "    dx = grad_u_hat[0][:, 0].reshape([len(grad_u_hat[0]), 1])  # dx\n",
        "    dt = grad_u_hat[0][:, 1].reshape([len(grad_u_hat[0]), 1])  # dt\n",
        "    dxx = torch.autograd.grad(outputs = dx, inputs = x1, grad_outputs = torch.ones(dx.shape), create_graph = True)[0][:,0].reshape([len(grad_u_hat[0]), 1])  # dxx\n",
        "    dxxx = torch.autograd.grad(outputs = dxx, inputs = x1, grad_outputs = torch.ones(dxx.shape), create_graph = True)[0][:,0].reshape([len(grad_u_hat[0]), 1])  # dxxx\n",
        "    loss = torch.sum((dt + dxxx + 6 * u_hat * dx)**2) / len(x1)\n",
        "\n",
        "    bias = torch.square(torch.mean(dt + dxxx + 6 * u_hat * dx))\n",
        "    variance = torch.mean(torch.square(dt + dxxx + 6 * u_hat * dx - torch.mean(dt + dxxx + 6 * u_hat * dx)))\n",
        "\n",
        "    # print(\"mean of dt: \", torch.mean(dt).item())\n",
        "    # print(\"mean of dxxx: \", torch.mean(dxxx).item())\n",
        "    # print(\"mean of 6 * u_hat * dx: \", torch.mean(6 * u_hat * dx).item())\n",
        "    # print(\"bias: \", bias.item())\n",
        "    # print(\"variance: \", variance.item())\n",
        "    \n",
        "    # #second term\n",
        "    u_hat2 = model1(x2)\n",
        "    middle = int(data_initial_size/2)\n",
        "    gx0 = g_0x(x2)[:middle]\n",
        "    gx1 = g_1x(x2)[middle:]\n",
        "    loss2 = torch.sum((u_hat2[:middle] - gx0)**2) / len(x2) + torch.sum((u_hat2[middle:] - gx1)**2) / len(x2)\n",
        "\n",
        "    # third term\n",
        "    u_hat3 = model1(x3)\n",
        "    u0 = u_0x(x3)\n",
        "    loss3 = torch.sum((u_hat3 - u0) **2) / len(x3)\n",
        "\n",
        "    # print('loss1: ', loss.item(), 'loss2: ', loss2.item(), 'loss3: ', loss3.item())\n",
        "\n",
        "    return loss + loss2 + loss3, bias, variance\n",
        "\n",
        "\n",
        "def loss_function2(x1, x2, x3):\n",
        "    # first term\n",
        "    u_hat = model2(x1)\n",
        "    grad_u_hat = torch.autograd.grad(outputs = u_hat, inputs = x1, grad_outputs = torch.ones(u_hat.shape), create_graph = True) # dx and dt\n",
        "    dx = grad_u_hat[0][:, 0].reshape([len(grad_u_hat[0]), 1])  # dx\n",
        "    dt = grad_u_hat[0][:, 1].reshape([len(grad_u_hat[0]), 1])  # dt\n",
        "    dxx = torch.autograd.grad(outputs = dx, inputs = x1, grad_outputs = torch.ones(dx.shape), create_graph = True)[0][:,0].reshape([len(grad_u_hat[0]), 1])  # dxx\n",
        "    dxxx = torch.autograd.grad(outputs = dxx, inputs = x1, grad_outputs = torch.ones(dxx.shape), create_graph = True)[0][:,0].reshape([len(grad_u_hat[0]), 1])  # dxxx\n",
        "    loss = torch.sum((dt + dxxx + 6 * u_hat * dx)**2) / len(x1)\n",
        "\n",
        "    bias = torch.square(torch.mean(dt + dxxx + 6 * u_hat * dx))\n",
        "    variance = torch.mean(torch.square(dt + dxxx + 6 * u_hat * dx - torch.mean(dt + dxxx + 6 * u_hat * dx)))\n",
        "\n",
        "    # print(\"mean of dt: \", torch.mean(dt).item())\n",
        "    # print(\"mean of dxxx: \", torch.mean(dxxx).item())\n",
        "    # print(\"mean of 6 * u_hat * dx: \", torch.mean(6 * u_hat * dx).item())\n",
        "    # print(\"bias: \", bias.item())\n",
        "    # print(\"variance: \", variance.item())\n",
        "    \n",
        "    # #second term\n",
        "    # u_hat2 = model(x2)\n",
        "    # gx = g_x(x2)\n",
        "    # loss2 = torch.sum((u_hat2 - gx)**2) / len(x2)\n",
        "\n",
        "    # third term\n",
        "    u_hat3 = model2(x3)\n",
        "    u0 = u_0x(x3)\n",
        "    loss3 = torch.sum((u_hat3 - u0) **2) / len(x3)\n",
        "\n",
        "    # print('loss1: ', loss.item(), 'loss3: ', loss3.item())\n",
        "\n",
        "    return loss + loss3, bias, variance\n",
        "\n",
        "\n",
        "def loss_function3(x1, x2, x3):\n",
        "    # first term\n",
        "    u_hat = model3(x1)\n",
        "    grad_u_hat = torch.autograd.grad(outputs = u_hat, inputs = x1, grad_outputs = torch.ones(u_hat.shape), create_graph = True) # dx and dt\n",
        "    dx = grad_u_hat[0][:, 0].reshape([len(grad_u_hat[0]), 1])  # dx\n",
        "    dt = grad_u_hat[0][:, 1].reshape([len(grad_u_hat[0]), 1])  # dt\n",
        "    dxx = torch.autograd.grad(outputs = dx, inputs = x1, grad_outputs = torch.ones(dx.shape), create_graph = True)[0][:,0].reshape([len(grad_u_hat[0]), 1])  # dxx\n",
        "    dxxx = torch.autograd.grad(outputs = dxx, inputs = x1, grad_outputs = torch.ones(dxx.shape), create_graph = True)[0][:,0].reshape([len(grad_u_hat[0]), 1])  # dxxx\n",
        "    loss = torch.sum((dt + dxxx + 6 * u_hat * dx)**2) / len(x1)\n",
        "\n",
        "    bias = torch.square(torch.mean(dt + dxxx + 6 * u_hat * dx))\n",
        "    variance = torch.mean(torch.square(dt + dxxx + 6 * u_hat * dx - torch.mean(dt + dxxx + 6 * u_hat * dx)))\n",
        "\n",
        "    # print(\"mean of dt: \", torch.mean(dt).item())\n",
        "    # print(\"mean of dxxx: \", torch.mean(dxxx).item())\n",
        "    # print(\"mean of 6 * u_hat * dx: \", torch.mean(6 * u_hat * dx).item())\n",
        "    # print(\"bias: \", bias.item())\n",
        "    # print(\"variance: \", variance.item())\n",
        "    \n",
        "    # #second term\n",
        "    u_hat2 = model3(x2)\n",
        "    middle = int(data_initial_size/2)\n",
        "    gx0 = g_0x(x2)[:middle]\n",
        "    gx1 = g_1x(x2)[middle:]\n",
        "    loss2 = torch.sum((u_hat2[:middle] - gx0)**2) / len(x2) + torch.sum((u_hat2[middle:] - gx1)**2) / len(x2)\n",
        "\n",
        "    # third term\n",
        "    # u_hat3 = model(x3)\n",
        "    # u0 = u_0x(x3)\n",
        "    # loss3 = torch.sum((u_hat3 - u0) **2) / len(x3)\n",
        "\n",
        "    # print('loss1: ', loss.item(), 'loss2: ', loss2.item())\n",
        "\n",
        "    return loss + loss2, bias, variance"
      ]
    },
    {
      "attachments": {},
      "cell_type": "markdown",
      "metadata": {
        "id": "0LKKnw7q0gGl"
      },
      "source": [
        "### 4.7 Define Fractional Error\n",
        "\n",
        "$${\\rm error} = \\frac{\\lVert \\hat u - u \\lVert _2^2}{\\lVert u \\lVert_2^2}$$"
      ]
    },
    {
      "cell_type": "code",
      "execution_count": 75,
      "metadata": {
        "id": "ZED4u4S0lzSi"
      },
      "outputs": [],
      "source": [
        "def cal_error1(x):\n",
        "    u_hat = model1(x)\n",
        "    u = u_ex(x)\n",
        "    upper = torch.square((u_hat - u).norm(2))\n",
        "    lower = torch.square(u.norm(2))\n",
        "    return torch.divide(upper, lower)\n",
        "\n",
        "def cal_error2(x):\n",
        "    u_hat = model2(x)\n",
        "    u = u_ex(x)\n",
        "    upper = torch.square((u_hat - u).norm(2))\n",
        "    lower = torch.square(u.norm(2))\n",
        "    return torch.divide(upper, lower)\n",
        "\n",
        "def cal_error3(x):\n",
        "    u_hat = model3(x)\n",
        "    u = u_ex(x)\n",
        "    upper = torch.square((u_hat - u).norm(2))\n",
        "    lower = torch.square(u.norm(2))\n",
        "    return torch.divide(upper, lower)"
      ]
    },
    {
      "cell_type": "markdown",
      "metadata": {
        "id": "HTaNvU4QN6h7"
      },
      "source": [
        "## 5.Doing the training"
      ]
    },
    {
      "attachments": {},
      "cell_type": "markdown",
      "metadata": {
        "id": "5uws2rXD0nHh"
      },
      "source": [
        "### Generating training data and test data"
      ]
    },
    {
      "cell_type": "code",
      "execution_count": 76,
      "metadata": {
        "id": "SCJiNNYclVjh"
      },
      "outputs": [],
      "source": [
        "x = generate_sample_one(data_size)\n",
        "x2 = generate_sample_two(data_initial_size) \n",
        "x3 = generate_sample_three(data_initial_size)\n",
        "\n",
        "# Testing data\n",
        "test_data = torch.zeros((321, 321, 2))\n",
        "for i in range(0, 321):\n",
        "  x_test = i / (320 / (right_boundary - left_boundary)) - (right_boundary - left_boundary) / 2\n",
        "  # x_test = i / 40 - 4\n",
        "  for j in range(321):\n",
        "    t_test = j / 320 - 0.5\n",
        "    test_data[i][j][0] = x_test\n",
        "    test_data[i][j][1] = t_test\n",
        "test_data = torch.reshape(test_data, (321*321, 2))"
      ]
    },
    {
      "cell_type": "markdown",
      "metadata": {
        "id": "Lx2oDg6q0zXp"
      },
      "source": [
        "### Training"
      ]
    },
    {
      "cell_type": "code",
      "execution_count": 15,
      "metadata": {
        "colab": {
          "base_uri": "https://localhost:8080/"
        },
        "id": "4ldoEh6nWsKk",
        "outputId": "69b0f179-a458-4e47-98ed-00dae011b535"
      },
      "outputs": [
        {
          "name": "stdout",
          "output_type": "stream",
          "text": [
            "Time:  1 /1\n",
            "current epoch:  1\n",
            "current loss:  tensor(34.8029)\n",
            "current error:  tensor(1.1548)\n",
            "total time is:  0.9417071342468262 seconds\n"
          ]
        }
      ],
      "source": [
        "# %%\n",
        "loss1_all = []\n",
        "error1_all = []\n",
        "u_hat_1_all = []\n",
        "bias1_all = []\n",
        "variance1_all = []\n",
        "for t in range(repeat):\n",
        "  print(\"Time: \", t+1, \"/{}\".format(repeat))\n",
        "\n",
        "  net1 = Net(input_width,layer_width)\n",
        "  optimizer1 = optim.Adam(net1.parameters(), lr=lr)\n",
        "\n",
        "  loss_record1 = np.zeros(epoch1)\n",
        "  error_record1 = np.zeros(epoch1)\n",
        "  bias_record1 = np.zeros(epoch1)\n",
        "  variance_record1 = np.zeros(epoch1)\n",
        "\n",
        "  time_start = time.time()\n",
        "  for i in range(1, epoch1+1):\n",
        "      optimizer1.zero_grad()\n",
        "      loss1, bias1, variance1 = loss_function1(x, x2, x3)\n",
        "      error1 = cal_error1(test_data)\n",
        "      loss_record1[i-1] = float(loss1)\n",
        "      error_record1[i-1] = float(error1)\n",
        "      bias_record1[i-1] = float(bias1)\n",
        "      variance_record1[i-1] = float(variance1)\n",
        "      loss1.backward()\n",
        "      optimizer1.step() \n",
        "      torch.cuda.empty_cache() # clear memory\n",
        "      if i % 2000 == 0 or i == 1:\n",
        "        print(\"current epoch: \", i)\n",
        "        print(\"current loss: \", loss1.detach())\n",
        "        print(\"current error: \", error1.detach())\n",
        "      \n",
        "  time_end = time.time()\n",
        "  u_hat_1_all.append(model1(test_data).detach().numpy())\n",
        "  loss1_all.append(loss_record1)\n",
        "  error1_all.append(error_record1)\n",
        "  bias1_all.append(bias_record1)\n",
        "  variance1_all.append(variance_record1)\n",
        "  print('total time is: ', time_end-time_start, 'seconds')\n",
        "\n",
        "# save loss1_all, error1_all, u_hat_1_all using pickle\n",
        "with open('data/KdV3_transformation/KdV3_loss1_all_{}_{}_{}_{}.pkl'.format(data_size+data_initial_size*2, epoch1, lr, layer_width), 'wb') as f:\n",
        "  pickle.dump(loss1_all, f)\n",
        "\n",
        "with open('data/KdV3_transformation/KdV3_error1_all_{}_{}_{}_{}.pkl'.format(data_size+data_initial_size*2, epoch1, lr, layer_width), 'wb') as f:\n",
        "  pickle.dump(error1_all, f)\n",
        "\n",
        "with open('data/KdV3_transformation/KdV3_u_hat_1_all_{}_{}_{}_{}.pkl'.format(data_size+data_initial_size*2, epoch1, lr, layer_width), 'wb') as f:\n",
        "  pickle.dump(u_hat_1_all, f)\n",
        "\n",
        "with open('data/KdV3_transformation/KdV3_bias1_all_{}_{}_{}_{}.pkl'.format(data_size+data_initial_size*2, epoch1, lr, layer_width), 'wb') as f:\n",
        "  pickle.dump(bias1_all, f)\n",
        "\n",
        "with open('data/KdV3_transformation/KdV3_variance1_all_{}_{}_{}_{}.pkl'.format(data_size+data_initial_size*2, epoch1, lr, layer_width), 'wb') as f:\n",
        "  pickle.dump(variance1_all, f)"
      ]
    },
    {
      "cell_type": "code",
      "execution_count": 16,
      "metadata": {},
      "outputs": [
        {
          "name": "stdout",
          "output_type": "stream",
          "text": [
            "Time:  1 /1\n",
            "current epoch:  1\n",
            "current loss:  tensor(26563.8073)\n",
            "current error:  tensor(1.1099)\n",
            "total time is:  1.1240217685699463 seconds\n"
          ]
        }
      ],
      "source": [
        "loss2_all = []\n",
        "error2_all = []\n",
        "u_hat_2_all = []\n",
        "bias2_all = []\n",
        "variance2_all = []\n",
        "for t in range(repeat):\n",
        "  print(\"Time: \", t+1, \"/{}\".format(repeat))\n",
        "\n",
        "  net2 = Net(input_width,layer_width)\n",
        "  optimizer2 = optim.Adam(net2.parameters(), lr=lr)\n",
        "\n",
        "  loss_record2 = np.zeros(epoch2)\n",
        "  error_record2 = np.zeros(epoch2)\n",
        "  bias2_record2 = np.zeros(epoch2)\n",
        "  variance2_record2 = np.zeros(epoch2)\n",
        "\n",
        "  time_start = time.time()\n",
        "  for i in range(1, epoch2+1):\n",
        "      optimizer2.zero_grad()\n",
        "      loss2, bias2, variance2 = loss_function2(x, x2, x3)\n",
        "      error2 = cal_error2(test_data)\n",
        "      loss_record2[i-1] = float(loss2)\n",
        "      error_record2[i-1] = float(error2)\n",
        "      bias2_record2[i-1] = float(bias2)\n",
        "      variance2_record2[i-1] = float(variance2)\n",
        "      loss2.backward()\n",
        "      optimizer2.step() \n",
        "      torch.cuda.empty_cache() # clear memory\n",
        "      if i % 2000 == 0 or i == 1:\n",
        "        print(\"current epoch: \", i)\n",
        "        print(\"current loss: \", loss2.detach())\n",
        "        print(\"current error: \", error2.detach())\n",
        "      \n",
        "  time_end = time.time()\n",
        "  u_hat_2_all.append(model2(test_data).detach().numpy())\n",
        "  loss2_all.append(loss_record2)\n",
        "  error2_all.append(error_record2)\n",
        "  bias2_all.append(bias2_record2)\n",
        "  variance2_all.append(variance2_record2)\n",
        "  print('total time is: ', time_end-time_start, 'seconds')\n",
        "\n",
        "# save loss2_all, error2_all, u_hat_2_all using pickle\n",
        "with open('data/KdV3_transformation/KdV3_loss2_all_{}_{}_{}_{}.pkl'.format(data_size+data_initial_size*2, epoch2, lr, layer_width), 'wb') as f:\n",
        "  pickle.dump(loss2_all, f)\n",
        "\n",
        "with open('data/KdV3_transformation/KdV3_error2_all_{}_{}_{}_{}.pkl'.format(data_size+data_initial_size*2, epoch2, lr, layer_width), 'wb') as f:\n",
        "  pickle.dump(error2_all, f)\n",
        "\n",
        "with open('data/KdV3_transformation/KdV3_u_hat_2_all_{}_{}_{}_{}.pkl'.format(data_size+data_initial_size*2, epoch2, lr, layer_width), 'wb') as f:\n",
        "  pickle.dump(u_hat_2_all, f)\n",
        "\n",
        "with open('data/KdV3_transformation/KdV3_bias2_all_{}_{}_{}_{}.pkl'.format(data_size+data_initial_size*2, epoch2, lr, layer_width), 'wb') as f:\n",
        "  pickle.dump(bias2_all, f)\n",
        "\n",
        "with open('data/KdV3_transformation/KdV3_variance2_all_{}_{}_{}_{}.pkl'.format(data_size+data_initial_size*2, epoch2, lr, layer_width), 'wb') as f:\n",
        "  pickle.dump(variance2_all, f)"
      ]
    },
    {
      "cell_type": "code",
      "execution_count": 17,
      "metadata": {},
      "outputs": [
        {
          "name": "stdout",
          "output_type": "stream",
          "text": [
            "Time:  1 /1\n",
            "current epoch:  1\n",
            "current loss:  tensor(1919.9088)\n",
            "current error:  tensor(0.9532)\n",
            "total time is:  0.8771162033081055 seconds\n"
          ]
        }
      ],
      "source": [
        "loss3_all = []\n",
        "error3_all = []\n",
        "u_hat_3_all = []\n",
        "bias3_all = []\n",
        "variance3_all = []\n",
        "for t in range(repeat):\n",
        "  print(\"Time: \", t+1, \"/{}\".format(repeat))\n",
        "\n",
        "  net3 = Net(input_width,layer_width)\n",
        "  optimizer3 = optim.Adam(net3.parameters(), lr=lr)\n",
        "\n",
        "  loss_record3 = np.zeros(epoch3)\n",
        "  error_record3 = np.zeros(epoch3)\n",
        "  bias3_record3 = np.zeros(epoch3)\n",
        "  variance3_record3 = np.zeros(epoch3)\n",
        "\n",
        "  time_start = time.time()\n",
        "  for i in range(1, epoch3+1):\n",
        "      optimizer3.zero_grad()\n",
        "      loss3, bias3, variance3 = loss_function3(x, x2, x3)\n",
        "      error3 = cal_error3(test_data)\n",
        "      loss_record3[i-1] = float(loss3)\n",
        "      error_record3[i-1] = float(error3)\n",
        "      bias3_record3[i-1] = float(bias3)\n",
        "      variance3_record3[i-1] = float(variance3)\n",
        "      loss3.backward()\n",
        "      optimizer3.step() \n",
        "      torch.cuda.empty_cache() # clear memory\n",
        "      if i % 2000 == 0 or i == 1:\n",
        "        print(\"current epoch: \", i)\n",
        "        print(\"current loss: \", loss3.detach())\n",
        "        print(\"current error: \", error3.detach())\n",
        "      \n",
        "  time_end = time.time()\n",
        "  u_hat_3_all.append(model3(test_data).detach().numpy())\n",
        "  loss3_all.append(loss_record3)\n",
        "  error3_all.append(error_record3)\n",
        "  bias3_all.append(bias3_record3)\n",
        "  variance3_all.append(variance3_record3)\n",
        "  print('total time is: ', time_end-time_start, 'seconds')\n",
        "\n",
        "# save loss3_all, error3_all, u_hat_3_all using pickle\n",
        "with open('data/KdV3_transformation/KdV3_loss3_all_{}_{}_{}_{}.pkl'.format(data_size+data_initial_size*2, epoch3, lr, layer_width), 'wb') as f:\n",
        "  pickle.dump(loss3_all, f)\n",
        "\n",
        "with open('data/KdV3_transformation/KdV3_error3_all_{}_{}_{}_{}.pkl'.format(data_size+data_initial_size*2, epoch3, lr, layer_width), 'wb') as f:\n",
        "  pickle.dump(error3_all, f)\n",
        "\n",
        "with open('data/KdV3_transformation/KdV3_u_hat_3_all_{}_{}_{}_{}.pkl'.format(data_size+data_initial_size*2, epoch3, lr, layer_width), 'wb') as f:\n",
        "  pickle.dump(u_hat_3_all, f)\n",
        "\n",
        "with open('data/KdV3_transformation/KdV3_bias3_all_{}_{}_{}_{}.pkl'.format(data_size+data_initial_size*2, epoch3, lr, layer_width), 'wb') as f:\n",
        "  pickle.dump(bias3_all, f)\n",
        "\n",
        "with open('data/KdV3_transformation/KdV3_variance3_all_{}_{}_{}_{}.pkl'.format(data_size+data_initial_size*2, epoch3, lr, layer_width), 'wb') as f:\n",
        "  pickle.dump(variance3_all, f)"
      ]
    },
    {
      "cell_type": "code",
      "execution_count": 18,
      "metadata": {},
      "outputs": [],
      "source": [
        "data_size = 18000\n",
        "data_initial_size = 918\n",
        "epoch1, epoch2, epoch3 = 40000, 40000, 40000\n",
        "lr = 0.001\n",
        "repeat = 3\n",
        "\n",
        "# # load loss1_all, error1_all, u_hat_1_all using pickle\n",
        "with open('src/data/KdV3_transformation/KdV3_loss1_all_{}_{}_{}_{}.pkl'.format(data_size+data_initial_size*2, epoch1, lr, layer_width), 'rb') as f:\n",
        "    loss1_all = pickle.load(f)\n",
        "\n",
        "with open('src/data/KdV3_transformation/KdV3_error1_all_{}_{}_{}_{}.pkl'.format(data_size+data_initial_size*2, epoch1, lr, layer_width), 'rb') as f:\n",
        "    error1_all = pickle.load(f)\n",
        "\n",
        "with open('src/data/KdV3_transformation/KdV3_u_hat_1_all_{}_{}_{}_{}.pkl'.format(data_size+data_initial_size*2, epoch1, lr, layer_width), 'rb') as f:\n",
        "    u_hat_1_all = pickle.load(f)\n",
        "\n",
        "# load loss2_all, error2_all, u_hat_2_all using pickle\n",
        "with open('src/data/KdV3_transformation/KdV3_loss2_all_{}_{}_{}_{}.pkl'.format(data_size+data_initial_size*2, epoch2, lr, layer_width), 'rb') as f:\n",
        "    loss2_all = pickle.load(f)\n",
        "\n",
        "with open('src/data/KdV3_transformation/KdV3_error2_all_{}_{}_{}_{}.pkl'.format(data_size+data_initial_size*2, epoch2, lr, layer_width), 'rb') as f:\n",
        "    error2_all = pickle.load(f)\n",
        "\n",
        "with open('src/data/KdV3_transformation/KdV3_u_hat_2_all_{}_{}_{}_{}.pkl'.format(data_size+data_initial_size*2, epoch2, lr, layer_width), 'rb') as f:\n",
        "    u_hat_2_all = pickle.load(f)\n",
        "\n",
        "# load loss3_all, error3_all, u_hat_3_all using pickle\n",
        "with open('src/data/KdV3_transformation/KdV3_loss3_all_{}_{}_{}_{}.pkl'.format(data_size+data_initial_size*2, epoch3, lr, layer_width), 'rb') as f:\n",
        "    loss3_all = pickle.load(f)\n",
        "\n",
        "with open('src/data/KdV3_transformation/KdV3_error3_all_{}_{}_{}_{}.pkl'.format(data_size+data_initial_size*2, epoch3, lr, layer_width), 'rb') as f:\n",
        "    error3_all = pickle.load(f)\n",
        "\n",
        "with open('src/data/KdV3_transformation/KdV3_u_hat_3_all_{}_{}_{}_{}.pkl'.format(data_size+data_initial_size*2, epoch3, lr, layer_width), 'rb') as f:\n",
        "    u_hat_3_all = pickle.load(f)"
      ]
    },
    {
      "cell_type": "markdown",
      "metadata": {
        "id": "oxuh66JhN8zp"
      },
      "source": [
        "## 6.Plotting the output"
      ]
    },
    {
      "cell_type": "markdown",
      "metadata": {
        "id": "EjX8r-KLCPUP"
      },
      "source": [
        "### Plot the Exmperical Loss & Fractional Error"
      ]
    },
    {
      "cell_type": "code",
      "execution_count": 19,
      "metadata": {
        "colab": {
          "base_uri": "https://localhost:8080/",
          "height": 757
        },
        "id": "esFfMTlHKOP2",
        "outputId": "6a40f06f-2dfe-43f3-be46-69af7daa2145"
      },
      "outputs": [
        {
          "data": {
            "image/png": "[encoded data removed]",
            "text/plain": [
              "<Figure size 1296x720 with 2 Axes>"
            ]
          },
          "metadata": {},
          "output_type": "display_data"
        }
      ],
      "source": [
        "fig = plt.figure()\n",
        "fig.subplots_adjust(hspace=0.4, wspace=0.4)\n",
        "fig.set_figheight(10)\n",
        "fig.set_figwidth(18)\n",
        "\n",
        "ax = fig.add_subplot(2, 1, 1)\n",
        "for i in range(repeat):\n",
        "    ax.plot(loss1_all[i], label = 'Vanilla loss' if i==0 else None, color = 'red')\n",
        "    ax.plot(loss2_all[i], label = 'Boundary-included' if i==0 else None, color = 'blue')\n",
        "    ax.plot(loss3_all[i], label = 'Initial-included' if i==0 else None, color = 'green')\n",
        "ax.set_xlabel('epoch')\n",
        "ax.set_ylabel('Empirical loss')\n",
        "ax.set_title(\"Empirical loss of 3solitons KdV\")\n",
        "ax.set_yscale(\"log\")\n",
        "ax.legend()\n",
        "\n",
        "ax = fig.add_subplot(2, 1, 2)\n",
        "for i in range(repeat):\n",
        "    ax.plot(error1_all[i], label = 'Vanilla loss' if i==0 else None, color = 'red')\n",
        "    ax.plot(error2_all[i], label = 'Boundary-included' if i==0 else None, color = 'blue')\n",
        "    ax.plot(error3_all[i], label = 'Initial-included' if i==0 else None, color = 'green')\n",
        "ax.set_xlabel('epoch')\n",
        "ax.set_ylabel('Fractional error w.r.t true solution')\n",
        "ax.set_title(\"Fractional error w.r.t true solution of 3solitons KdV\")\n",
        "ax.set_yscale(\"log\")\n",
        "ax.legend()\n",
        "\n",
        "# save the figure\n",
        "fig.savefig('images/KdV3_transformation/KdV3_loss_error_{}_{}_{}_{}.png'.format(data_size+data_initial_size*2, epoch3, lr, layer_width))"
      ]
    },
    {
      "attachments": {},
      "cell_type": "markdown",
      "metadata": {},
      "source": [
        "### Plot the variance of the loss and error"
      ]
    },
    {
      "cell_type": "code",
      "execution_count": 20,
      "metadata": {},
      "outputs": [],
      "source": [
        "# calculate the variance of loss1_all and error1_all in column direction\n",
        "var_loss1_all = np.array(loss1_all).var(axis=0)\n",
        "var_error1_all = np.array(error1_all).var(axis=0)\n",
        "var_bias1_all = np.array(bias1_all).var(axis=0)\n",
        "var_variance1_all = np.array(variance1_all).var(axis=0)\n",
        "\n",
        "# calculate the variance of loss2_all and error2_all in column direction\n",
        "var_loss2_all = np.array(loss2_all).var(axis=0)\n",
        "var_error2_all = np.array(error2_all).var(axis=0)\n",
        "var_bias2_all = np.array(bias2_all).var(axis=0)\n",
        "var_variance2_all = np.array(variance2_all).var(axis=0)\n",
        "\n",
        "# calculate the variance of loss3_all and error3_all in column direction\n",
        "var_loss3_all = np.array(loss3_all).var(axis=0)\n",
        "var_error3_all = np.array(error3_all).var(axis=0)\n",
        "var_bias3_all = np.array(bias3_all).var(axis=0)\n",
        "var_variance3_all = np.array(variance3_all).var(axis=0)\n",
        "\n",
        "# Plot all the variance of loss and error\n",
        "# fig = plt.figure()\n",
        "# fig.subplots_adjust(hspace=0.4, wspace=0.4)\n",
        "# fig.set_figheight(10)\n",
        "# fig.set_figwidth(18)\n",
        "\n",
        "# ax = fig.add_subplot(2, 1, 1)\n",
        "# ax.plot(var_loss1_all, label = 'Vanilla loss, epoch={}, bulk={}, initial={}, boundary={}'.format(epoch1, data_size, data_size/2, data_size/2), color = 'red')\n",
        "# ax.plot(var_loss2_all, label = 'Train on Initial, epoch={}, bulk={}, initial={}'.format(epoch2, data_size, data_size/2), color = 'blue')\n",
        "# ax.plot(var_loss3_all, label = 'Train on boundary, epoch={}, bulk={}, boundary={}'.format(epoch3, data_size, data_size/2), color = 'green')\n",
        "# ax.set_xlabel('epoch')\n",
        "# ax.set_ylabel('Variance of empirical loss')\n",
        "# ax.set_title(\"Variance of empirical loss of 3solitons KdV\")\n",
        "# ax.set_yscale(\"log\")\n",
        "# ax.legend()\n",
        "\n",
        "# ax = fig.add_subplot(2, 1, 2)\n",
        "# ax.plot(var_error1_all, label = 'Vanilla loss, epoch={}, bulk={}, initial={}, boundary={}'.format(epoch1, data_size, data_size/2, data_size/2), color = 'red')\n",
        "# ax.plot(var_error2_all, label = 'Train on Initial, epoch={}, bulk={}, initial={}'.format(epoch2, data_size, data_size/2), color = 'blue')\n",
        "# ax.plot(var_error3_all, label = 'Train on boundary, epoch={}, bulk={}, boundary={}'.format(epoch3, data_size, data_size/2), color = 'green')\n",
        "# ax.set_xlabel('epoch')\n",
        "# ax.set_ylabel('Variance of fractional error w.r.t true solution')\n",
        "# ax.set_title(\"Variance of fractional error w.r.t true solution of 3solitons KdV\")\n",
        "# ax.set_yscale(\"log\")\n",
        "# ax.legend()\n",
        "\n",
        "# # save the figure\n",
        "# fig.savefig('images/KdV3_transformation/KdV3_loss_error_var_{}_{}_{}_{}.png'.format(data_size*2, epoch3, lr, layer_width))"
      ]
    },
    {
      "attachments": {},
      "cell_type": "markdown",
      "metadata": {},
      "source": [
        "### Plot the average of the loss and error"
      ]
    },
    {
      "cell_type": "code",
      "execution_count": 21,
      "metadata": {},
      "outputs": [],
      "source": [
        "# calculate the mean of loss1_all and error1_all in column direction\n",
        "mean_loss1_all = np.array(loss1_all).mean(axis=0)\n",
        "mean_error1_all = np.array(error1_all).mean(axis=0)\n",
        "mean_bias1_all = np.array(bias1_all).mean(axis=0)\n",
        "mean_variance1_all = np.array(variance1_all).mean(axis=0)\n",
        "\n",
        "# calculate the mean of loss2_all and error2_all in column direction\n",
        "mean_loss2_all = np.array(loss2_all).mean(axis=0)\n",
        "mean_error2_all = np.array(error2_all).mean(axis=0)\n",
        "mean_bias2_all = np.array(bias2_all).mean(axis=0)\n",
        "mean_variance2_all = np.array(variance2_all).mean(axis=0)\n",
        "\n",
        "# calculate the mean of loss3_all and error3_all in column direction\n",
        "mean_loss3_all = np.array(loss3_all).mean(axis=0)\n",
        "mean_error3_all = np.array(error3_all).mean(axis=0)\n",
        "mean_bias3_all = np.array(bias3_all).mean(axis=0)\n",
        "mean_variance3_all = np.array(variance3_all).mean(axis=0)\n",
        "\n",
        "# Plot all the mean of loss and error\n",
        "# fig = plt.figure()\n",
        "# fig.subplots_adjust(hspace=0.4, wspace=0.4)\n",
        "# fig.set_figheight(10)\n",
        "# fig.set_figwidth(18)\n",
        "\n",
        "# ax = fig.add_subplot(2, 1, 1)\n",
        "# ax.plot(mean_loss1_all, label = 'Vanilla loss, epoch={}, bulk={}, initial={}, boundary={}'.format(epoch1, data_size, data_size/2, data_size/2), color = 'red')\n",
        "# ax.plot(mean_loss2_all, label = 'Train on Initial, epoch={}, bulk={}, initial={}'.format(epoch2, data_size, data_size/2), color = 'blue')\n",
        "# ax.plot(mean_loss3_all, label = 'Train on boundary, epoch={}, bulk={}, boundary={}'.format(epoch3, data_size, data_size/2), color = 'green')\n",
        "# ax.set_xlabel('epoch')\n",
        "# ax.set_ylabel('Mean of empirical loss')\n",
        "# ax.set_title(\"Mean of empirical loss of 3solitons KdV\")\n",
        "# ax.set_yscale(\"log\")\n",
        "# ax.legend()\n",
        "\n",
        "# ax = fig.add_subplot(2, 1, 2)\n",
        "# ax.plot(mean_error1_all, label = 'Vanilla loss, epoch={}, bulk={}, initial={}, boundary={}'.format(epoch1, data_size, data_size/2, data_size/2), color = 'red')\n",
        "# ax.plot(mean_error2_all, label = 'Train on Initial, epoch={}, bulk={}, initial={}'.format(epoch2, data_size, data_size/2), color = 'blue')\n",
        "# ax.plot(mean_error3_all, label = 'Train on boundary, epoch={}, bulk={}, boundary={}'.format(epoch3, data_size, data_size/2), color = 'green')\n",
        "# ax.set_xlabel('epoch')\n",
        "# ax.set_ylabel('Mean of fractional error w.r.t true solution')\n",
        "# ax.set_title(\"Mean of fractional error w.r.t true solution of 3solitons KdV\")\n",
        "# ax.set_yscale(\"log\")\n",
        "# ax.legend()\n",
        "\n",
        "# # save the figure\n",
        "# fig.savefig('images/KdV3_transformation/KdV3_loss_error_mean_{}_{}_{}_{}.png'.format(data_size*2, epoch3, lr, layer_width))"
      ]
    },
    {
      "attachments": {},
      "cell_type": "markdown",
      "metadata": {},
      "source": [
        "### Plot the error bar"
      ]
    },
    {
      "cell_type": "code",
      "execution_count": 22,
      "metadata": {},
      "outputs": [
        {
          "data": {
            "image/png": "[encoded data removed]",
            "text/plain": [
              "<Figure size 1080x720 with 2 Axes>"
            ]
          },
          "metadata": {},
          "output_type": "display_data"
        }
      ],
      "source": [
        "# Plot the error bar of loss and error\n",
        "fig = plt.figure()\n",
        "fig.subplots_adjust(hspace=0.4, wspace=0.4)\n",
        "fig.set_figheight(10)\n",
        "fig.set_figwidth(15)\n",
        "\n",
        "ax = fig.add_subplot(1, 2, 1)\n",
        "ax.errorbar(range(epoch1), mean_loss1_all, yerr=var_loss1_all, label = 'Vanilla loss', color = 'red')\n",
        "ax.errorbar(range(epoch1), mean_bias1_all, yerr=var_bias1_all, label = 'Bias of Vanilla loss', color = '#d96a7b', linestyle='--')\n",
        "ax.errorbar(range(epoch1), mean_variance1_all, yerr=var_variance1_all, label = 'Variance of Vanilla loss', color = '#753740', linestyle=':')\n",
        "\n",
        "ax.errorbar(range(epoch2), mean_loss2_all, yerr=var_loss2_all, label = 'Boundary-included', color = 'blue')\n",
        "ax.errorbar(range(epoch2), mean_bias2_all, yerr=var_bias2_all, label = 'Bias of Boundary-included', color = '#89a7e8', linestyle='--')\n",
        "ax.errorbar(range(epoch2), mean_variance2_all, yerr=var_variance2_all, label = 'Variance of Boundary-included', color = '#48597d', linestyle=':')\n",
        "\n",
        "ax.errorbar(range(epoch3), mean_loss3_all, yerr=var_loss3_all, label = 'Initial-included', color = 'green')\n",
        "ax.errorbar(range(epoch3), mean_bias3_all, yerr=var_bias3_all, label = 'Bias of Initial-included', color = '#b4edb2', linestyle='--')\n",
        "ax.errorbar(range(epoch3), mean_variance3_all, yerr=var_variance3_all, label = 'Variance of Initial-included', color = '#435e42', linestyle=':')\n",
        "\n",
        "ax.set_xlabel('epoch')\n",
        "ax.set_ylabel('Mean of empirical loss')\n",
        "ax.set_title(\"Mean of empirical loss\")\n",
        "ax.set_yscale(\"log\")\n",
        "ax.legend()\n",
        "\n",
        "ax = fig.add_subplot(1, 2, 2)\n",
        "ax.errorbar(range(epoch1), mean_error1_all, yerr=var_error1_all, label = 'Vanilla loss', color = 'red')\n",
        "ax.errorbar(range(epoch2), mean_error2_all, yerr=var_error2_all, label = 'Boundary-included', color = 'blue')\n",
        "ax.errorbar(range(epoch3), mean_error3_all, yerr=var_error3_all, label = 'Initial-included', color = 'green')\n",
        "ax.set_xlabel('epoch')\n",
        "ax.set_ylabel('Mean of fractional error w.r.t true solution')\n",
        "ax.set_title(\"Mean of fractional error w.r.t true solution\")\n",
        "ax.set_yscale(\"log\")\n",
        "ax.legend()\n",
        "\n",
        "# save the figure\n",
        "fig.savefig('images/KdV3_transformation/KdV3_loss_error_errorbar_{}_{}_{}_{}.png'.format(data_size+data_initial_size*2, epoch3, lr, layer_width))\n"
      ]
    },
    {
      "cell_type": "markdown",
      "metadata": {
        "id": "OwmgN8-ZCqPk"
      },
      "source": [
        "### Plot the heat map Using 100 $\\times$ 100 test data"
      ]
    },
    {
      "cell_type": "code",
      "execution_count": 23,
      "metadata": {
        "id": "3GhSe6pHPXDy"
      },
      "outputs": [],
      "source": [
        "data_u_hat_1 = np.reshape(np.array(u_hat_1_all).mean(axis=0), (321,321))\n",
        "data_u_hat_2 = np.reshape(np.array(u_hat_2_all).mean(axis=0), (321,321))\n",
        "data_u_hat_3 = np.reshape(np.array(u_hat_3_all).mean(axis=0), (321,321))\n",
        "data_u = torch.reshape(u_ex(test_data), (321, 321)).detach().numpy()\n",
        "\n",
        "# Generate x and y labels\n",
        "x_axis_labels = []\n",
        "y_axis_labels = []\n",
        "for i in range(321):\n",
        "  if i%(320 / (right_boundary - left_boundary)) == 0:\n",
        "    y_axis_labels.append(i/(320 / (right_boundary - left_boundary))-(right_boundary - left_boundary)/2)\n",
        "  # if i%40 == 0:\n",
        "  #   y_axis_labels.append(i/40 - 4)\n",
        "  else:\n",
        "    y_axis_labels.append(\"\")\n",
        "\n",
        "for i in range(321):\n",
        "  if i%40 == 0:\n",
        "    x_axis_labels.append(i/320 - 0.5) \n",
        "  else:\n",
        "    x_axis_labels.append(\"\")"
      ]
    },
    {
      "cell_type": "code",
      "execution_count": 24,
      "metadata": {
        "colab": {
          "base_uri": "https://localhost:8080/",
          "height": 411
        },
        "id": "7GTwbahgZBLO",
        "outputId": "20b54b60-2444-441d-f358-bf5c901a3508"
      },
      "outputs": [
        {
          "data": {
            "image/png": "[encoded data removed]",
            "text/plain": [
              "<Figure size 1080x720 with 8 Axes>"
            ]
          },
          "metadata": {},
          "output_type": "display_data"
        }
      ],
      "source": [
        "import seaborn as sns\n",
        "sns.set(rc={'figure.figsize':(15,10)})\n",
        "\n",
        "f, ((ax1, ax2), (ax3, ax4)) = plt.subplots(2,2,sharey=True)\n",
        "g1 = sns.heatmap(data_u_hat_1, xticklabels=x_axis_labels, yticklabels=y_axis_labels, cbar=True, vmin=0, vmax=16, ax=ax1)\n",
        "ax1.set_xlabel('time')\n",
        "ax1.set_ylabel('space')\n",
        "# reverse the y axis\n",
        "ax1.invert_yaxis()\n",
        "g1.set_title('Vanilla loss with epoch='+str(epoch1))\n",
        "g2 = sns.heatmap(data_u_hat_2, xticklabels=x_axis_labels, yticklabels=y_axis_labels, cbar=True, vmin=0, vmax=16, ax=ax2)\n",
        "ax2.set_xlabel('time')\n",
        "ax2.set_ylabel('space')\n",
        "ax2.invert_yaxis()\n",
        "g2.set_title(\"Boundary-included with epoch=\"+str(epoch2))\n",
        "g1 = sns.heatmap(data_u_hat_3, xticklabels=x_axis_labels, yticklabels=y_axis_labels, cbar=True, vmin=0, vmax=16, ax=ax3)\n",
        "ax3.set_xlabel('time')\n",
        "ax3.set_ylabel('space')\n",
        "ax3.invert_yaxis()\n",
        "g1.set_title('Initial-included with epoch='+str(epoch3))\n",
        "g2 = sns.heatmap(data_u, xticklabels=x_axis_labels, yticklabels=y_axis_labels, cbar=True, vmin=0, vmax=16, ax=ax4)\n",
        "ax4.set_xlabel('time')\n",
        "ax4.set_ylabel('space')\n",
        "ax4.invert_yaxis()\n",
        "g2.set_title(\"Exact solution\")\n",
        "\n",
        "# save the figure   \n",
        "f.savefig(\"images/KdV3_transformation/model_transformation_3sol_{}_{}_{}_{}.png\".format(epoch1, epoch2, epoch3, layer_width))"
      ]
    },
    {
      "cell_type": "code",
      "execution_count": 35,
      "metadata": {},
      "outputs": [
        {
          "data": {
            "text/plain": [
              "(321, 321)"
            ]
          },
          "execution_count": 35,
          "metadata": {},
          "output_type": "execute_result"
        }
      ],
      "source": [
        "data_u.shape"
      ]
    },
    {
      "cell_type": "code",
      "execution_count": 37,
      "metadata": {},
      "outputs": [
        {
          "data": {
            "text/plain": [
              "[<matplotlib.lines.Line2D at 0x7fa89891bfa0>]"
            ]
          },
          "execution_count": 37,
          "metadata": {},
          "output_type": "execute_result"
        },
        {
          "data": {
            "image/png": "[encoded data removed]",
            "text/plain": [
              "<Figure size 1080x720 with 1 Axes>"
            ]
          },
          "metadata": {},
          "output_type": "display_data"
        }
      ],
      "source": [
        "plt.plot(data_u[:, 160])"
      ]
    },
    {
      "cell_type": "code",
      "execution_count": 39,
      "metadata": {},
      "outputs": [],
      "source": [
        "# three subplots showing data_u[:, 0], data_u[:, 50], data_u[:, 100]\n",
        "# set plot height and width\n",
        "\n",
        "# y_axis_labels = []\n",
        "# for i in range(321):\n",
        "#     y_axis_labels.append(i/40-4)\n",
        "    \n",
        "# fig = plt.figure()\n",
        "# fig.subplots_adjust(hspace=0.4, wspace=0.2)\n",
        "# fig.set_figheight(10)\n",
        "# fig.set_figwidth(5)\n",
        "\n",
        "# f, (ax1, ax2, ax3) = plt.subplots(1,3,sharey=True)\n",
        "# ax1.plot(y_axis_labels, data_u[:, 0], label = 'Exact solution when t = -1')\n",
        "# ax1.set_ylabel(\"u(x, -0.1)\")\n",
        "\n",
        "# ax2.plot(y_axis_labels, data_u[:, 5], label = 'Exact solution when t = 0')\n",
        "# ax2.set_ylabel(\"u(x, 0)\")\n",
        "\n",
        "# ax3.plot(y_axis_labels, data_u[:, 10], label = 'Exact solution when t = 1')\n",
        "# ax3.set_ylabel(\"u(x, 0.1)\")"
      ]
    },
    {
      "cell_type": "code",
      "execution_count": 40,
      "metadata": {},
      "outputs": [],
      "source": [
        "# Plot all the variance of loss and error\n",
        "# fig = plt.figure()\n",
        "# fig.subplots_adjust(hspace=0.4, wspace=0.4)\n",
        "# fig.set_figheight(8)\n",
        "# fig.set_figwidth(20)\n",
        "\n",
        "# ax1 = fig.add_subplot(1, 3, 1)\n",
        "# ax1.plot(y_axis_labels, data_u[:, 0], label = 'Exact solution when t = -0.1', color = 'black')\n",
        "# ax1.set_xlabel('x')\n",
        "# ax1.set_ylabel('u(x, -0.1)')\n",
        "# ax2.set_ylim(0, 18)\n",
        "# ax1.legend()\n",
        "\n",
        "# ax2 = fig.add_subplot(1, 3, 2)\n",
        "# ax2.plot(y_axis_labels, data_u[:, 5], label = 'Exact solution when t = 0', color = 'black')\n",
        "# ax2.set_xlabel('x')\n",
        "# ax2.set_ylabel('u(x, 0)')\n",
        "# ax2.set_ylim(0, 18)\n",
        "# # ax2.set_title(\"Exact 3 solitions solution of KdV equation\") \n",
        "# ax2.legend()\n",
        "\n",
        "# ax1 = fig.add_subplot(1, 3, 3)\n",
        "# ax1.plot(y_axis_labels, data_u[:, 10], label = 'Exact solution when t = 0.1', color = 'black')\n",
        "# ax1.set_xlabel('x')\n",
        "# ax1.set_ylabel('u(x, 0.1)')\n",
        "# ax2.set_ylim(0, 18)\n",
        "# ax1.legend()\n",
        "\n",
        "# # save the figure\n",
        "# fig.savefig('images/KdV3_transformation/KdV3.png')"
      ]
    },
    {
      "cell_type": "code",
      "execution_count": 50,
      "metadata": {},
      "outputs": [
        {
          "name": "stdout",
          "output_type": "stream",
          "text": [
            "13\n",
            "417\n"
          ]
        }
      ],
      "source": [
        "for i in range(1, 200):\n",
        "    num = 2*i**2 + 6*i + 1\n",
        "    if num> 400:\n",
        "        print(i)\n",
        "        print(num)\n",
        "        break\n"
      ]
    },
    {
      "cell_type": "code",
      "execution_count": null,
      "metadata": {},
      "outputs": [],
      "source": []
    }
  ],
  "metadata": {
    "accelerator": "GPU",
    "colab": {
      "machine_shape": "hm",
      "provenance": [],
      "toc_visible": true
    },
    "gpuClass": "premium",
    "kernelspec": {
      "display_name": "base",
      "language": "python",
      "name": "python3"
    },
    "language_info": {
      "codemirror_mode": {
        "name": "ipython",
        "version": 3
      },
      "file_extension": ".py",
      "mimetype": "text/x-python",
      "name": "python",
      "nbconvert_exporter": "python",
      "pygments_lexer": "ipython3",
      "version": "3.9.12"
    },
    "vscode": {
      "interpreter": {
        "hash": "13ae1b62895a428bcb134dd06fa0e2139dd2588e01404ff464f2c059ecba3d5d"
      }
    }
  },
  "nbformat": 4,
  "nbformat_minor": 0
}
